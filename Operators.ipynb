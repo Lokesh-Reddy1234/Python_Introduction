{
 "cells": [
  {
   "cell_type": "markdown",
   "id": "05bb70cb-1b2e-483a-a9b2-9fa4cf533b61",
   "metadata": {},
   "source": [
    "### Explain what is operator?"
   ]
  },
  {
   "cell_type": "markdown",
   "id": "fee84c64-df1b-4c46-b2dc-9b24df309798",
   "metadata": {},
   "source": [
    "In Python, operators are symbols that perform operations on values and variables. They come in various types and serve different purposes."
   ]
  },
  {
   "cell_type": "markdown",
   "id": "9eb52be3-3bcd-4fcc-bdd6-7c3f2c270f55",
   "metadata": {},
   "source": [
    "### Types of operators"
   ]
  },
  {
   "cell_type": "markdown",
   "id": "f498fcbe-9164-4806-9e8c-de425f5d6b94",
   "metadata": {},
   "source": [
    "### 1.Arithmetic operator"
   ]
  },
  {
   "cell_type": "markdown",
   "id": "c5175bf7-aa9a-4d2f-ba2a-e2cd27906166",
   "metadata": {},
   "source": [
    "There are 7 arithmetic operators in Python.\n",
    "\n",
    "\n",
    "Addition: adds two operands\t\n",
    "x + y\n",
    "\n",
    "Subtraction: subtracts two operands\t\n",
    "x – y\n",
    "\n",
    "Multiplication: multiplies two operands\t\n",
    "x * y\n",
    "\n",
    "Division: divides the first operand by the second\t\n",
    "x / y\n",
    "\n",
    "Division (floor): divides the first operand by the second\t\n",
    "x // y\n",
    "\n",
    "Modulus: returns the remainder when the first operand is divided by the second\t\n",
    "x % y\n",
    "\n",
    "Exponential: Returns first raised to power second\t\n",
    "x ** y"
   ]
  },
  {
   "cell_type": "markdown",
   "id": "4164fa04-5dd1-454b-abf1-f2e466dfb924",
   "metadata": {},
   "source": [
    "#### Examples of arithmetic "
   ]
  },
  {
   "cell_type": "code",
   "execution_count": 168,
   "id": "191e1d76-6a3d-4e3f-8d25-aadfbc9e0a85",
   "metadata": {},
   "outputs": [
    {
     "name": "stdout",
     "output_type": "stream",
     "text": [
      "5\n",
      "1\n",
      "6\n",
      "1.5\n",
      "1\n",
      "1\n",
      "9\n"
     ]
    }
   ],
   "source": [
    "x = 3\n",
    "y = 2\n",
    "\n",
    "z = x+y\n",
    "print(z)\n",
    "\n",
    "z = x-y\n",
    "print(z)\n",
    "\n",
    "z = x*y\n",
    "print(z)\n",
    "\n",
    "z = x/y\n",
    "print(z)\n",
    "\n",
    "z = x//y\n",
    "print(z)\n",
    "\n",
    "z = x%y\n",
    "print(z)\n",
    "\n",
    "z = x**y\n",
    "print(z)"
   ]
  },
  {
   "cell_type": "markdown",
   "id": "6094681a-d3dc-45fb-82ea-94d0602aee74",
   "metadata": {},
   "source": [
    "### 2.Assignment operator"
   ]
  },
  {
   "cell_type": "markdown",
   "id": "5d0b3e26-e169-48e9-95be-fb2fbf7dbcd6",
   "metadata": {},
   "source": [
    "Assignment Operator : =<br>\n",
    "Assignment Operators are used to assign values to variables. This operator is used to assign the value of the right side of the expression to the left side operand."
   ]
  },
  {
   "cell_type": "markdown",
   "id": "d16d99c3-131f-4733-8bdb-845ffb4be157",
   "metadata": {},
   "source": [
    "Addition Assignment Operator : +=<br>\r\n",
    "The Addition Assignment Operator is used to add the right-hand side operand with the left-hand side operand and then assigning the result to the left operand."
   ]
  },
  {
   "cell_type": "markdown",
   "id": "819c39e9-fd06-4529-95fa-df9ef345a73d",
   "metadata": {},
   "source": [
    "Subtraction Assignment Operator : -=<br>\r\n",
    "The Subtraction Assignment Operator is used to subtract the right-hand side operand from the left-hand side operand and then assigning the result to the left-hand side operand."
   ]
  },
  {
   "cell_type": "markdown",
   "id": "efcb0283-a837-4963-8308-861daba1e36f",
   "metadata": {},
   "source": [
    "Multiplication Assignment Operator : *=<br>\r\n",
    "The Multiplication Assignment Operator is used to multiply the right-hand side operand with the left-hand side operand and then assigning the result to the left-hand side operand."
   ]
  },
  {
   "cell_type": "markdown",
   "id": "ecfa8036-4ecc-4cba-a3f2-255a012dbf32",
   "metadata": {},
   "source": [
    "Division Assignment Operator : /=<br>\n",
    "The Division Assignment Operator is used to divide the left-hand side operand with the right-hand side operand and then assigning the result to the left operand."
   ]
  },
  {
   "cell_type": "markdown",
   "id": "39c01294-d621-4089-8241-3738a9148bb6",
   "metadata": {},
   "source": [
    "Modulus Assignment Operator : %=<br>\n",
    "The Modulus Assignment Operator is used to take the modulus, that is, it first divides the operands and then takes the remainder and assigns it to the left operand."
   ]
  },
  {
   "cell_type": "markdown",
   "id": "4000ad0c-090c-435a-9ae2-a04f045166c8",
   "metadata": {},
   "source": [
    "Exponentiation Assignment Operator : **=<br>\r\n",
    "The Exponentiation Assignment Operator is used to calculate the exponent(raise power) value using operands and then assigning the result to the left operand."
   ]
  },
  {
   "cell_type": "markdown",
   "id": "e365156e-d56e-46fe-9673-f7be132fedf3",
   "metadata": {},
   "source": [
    "#### Examples of assignment"
   ]
  },
  {
   "cell_type": "code",
   "execution_count": 166,
   "id": "4103cbd9-8dbd-417f-a0db-432c5763eec4",
   "metadata": {},
   "outputs": [
    {
     "name": "stdout",
     "output_type": "stream",
     "text": [
      "15\n",
      "15\n",
      "10\n",
      "50\n",
      "10.0\n",
      "0.0\n",
      "0.0\n"
     ]
    }
   ],
   "source": [
    "x = 10\n",
    "y = 5\n",
    "\n",
    "z = x+y\n",
    "print(z)\n",
    "\n",
    "x += y\n",
    "print(x)\n",
    "\n",
    "x -= y\n",
    "print(x)\n",
    "\n",
    "x *= y\n",
    "print(x)\n",
    "\n",
    "x /= y\n",
    "print(x)\n",
    "\n",
    "x %= y\n",
    "print(x)\n",
    "\n",
    "x **= y\n",
    "print(x)"
   ]
  },
  {
   "cell_type": "markdown",
   "id": "9eb41994-8640-4218-aebe-4079df9a9545",
   "metadata": {},
   "source": [
    "### 3.Comparison operator"
   ]
  },
  {
   "cell_type": "markdown",
   "id": "416bbf14-700c-46a4-8c9d-b86632c7e1ad",
   "metadata": {},
   "source": [
    "In Python, comparison operators are used to compare values and return a boolean result (True or False). Here’s a list of the most common comparison operators:\n",
    "\n",
    "Equal to (==) :<br>\n",
    "\n",
    "Checks if two values are equal.\n",
    "Example: 5 == 5 returns True, while 5 == 3 returns False.\n",
    "\n",
    "Not equal to (!=) :<br>\n",
    "\n",
    "Checks if two values are not equal.\n",
    "Example: 5 != 3 returns True, while 5 != 5 returns False.\n",
    "\n",
    "Greater than (>) :<br>\n",
    "\n",
    "Checks if the value on the left is greater than the value on the right.\n",
    "Example: 7 > 3 returns True, while 3 > 7 returns False.\n",
    "\n",
    "Less than (<) :<br>\n",
    "\n",
    "Checks if the value on the left is less than the value on the right.\n",
    "Example: 3 < 7 returns True, while 7 < 3 returns False.\n",
    "\n",
    "Greater than or equal to (>=) :<br>\n",
    "\n",
    "Checks if the value on the left is greater than or equal to the value on the right.\n",
    "Example: 7 >= 7 returns True, while 5 >= 7 returns False.\n",
    "\n",
    "Less than or equal to (<=) :<br>\n",
    "\n",
    "Checks if the value on the left is less than or equal to the value on the right.\n",
    "Example: 5 <= 5 returns True, while 7 <= 5 returns False."
   ]
  },
  {
   "cell_type": "markdown",
   "id": "7d68ced9-94f9-4fd3-8892-ec74bc42ad7b",
   "metadata": {},
   "source": [
    "#### Examples of comparison"
   ]
  },
  {
   "cell_type": "code",
   "execution_count": 4,
   "id": "9d0cc335-2a58-4925-82a6-bf928bfde487",
   "metadata": {},
   "outputs": [
    {
     "name": "stdout",
     "output_type": "stream",
     "text": [
      "False\n",
      "True\n",
      "False\n",
      "True\n",
      "False\n",
      "True\n"
     ]
    }
   ],
   "source": [
    "a = 10\n",
    "b = 20\n",
    "\n",
    "print(a == b)   \n",
    "print(a != b)  \n",
    "print(a > b)  \n",
    "print(a < b)   \n",
    "print(a >= b)   \n",
    "print(a <= b) \n"
   ]
  },
  {
   "cell_type": "markdown",
   "id": "f2ac60a0-a3a5-4128-98c3-4342a956567f",
   "metadata": {},
   "source": [
    "### 4.Logical operator"
   ]
  },
  {
   "cell_type": "markdown",
   "id": "963532d0-9c4d-4014-82a3-1a825872df56",
   "metadata": {},
   "source": [
    "Logical operators in Python are used to combine multiple boolean expressions or values. They return True or False based on the conditions provided. Here are the main logical operators:\n",
    "\n",
    "and\n",
    "\n",
    "Returns True if both operands are true. Otherwise, it returns False.\n",
    "\n",
    "\n",
    "or\n",
    "\n",
    "Returns True if at least one of the operands is true. It returns False only if both operands are false.\n",
    "  \n",
    "\n",
    "not\n",
    "\n",
    "Returns True if the operand is false, and False if the operand is true. It negates the boolean value of the operand."
   ]
  },
  {
   "cell_type": "code",
   "execution_count": 10,
   "id": "5088f8cf-8771-4f63-8611-65d008dad570",
   "metadata": {},
   "outputs": [
    {
     "name": "stdout",
     "output_type": "stream",
     "text": [
      "True\n",
      "False\n"
     ]
    }
   ],
   "source": [
    "x = 10\n",
    "y = 20\n",
    "print(x > 5 and y < 25) \n",
    "print(x > 15 and y < 25) \n"
   ]
  },
  {
   "cell_type": "code",
   "execution_count": 12,
   "id": "29040347-47fc-4d10-b4e3-24244521e853",
   "metadata": {},
   "outputs": [
    {
     "name": "stdout",
     "output_type": "stream",
     "text": [
      "True\n",
      "False\n"
     ]
    }
   ],
   "source": [
    "x = 10\n",
    "y = 20\n",
    "print(x > 5 or y < 15)\n",
    "print(x < 5 or y < 15) \n"
   ]
  },
  {
   "cell_type": "code",
   "execution_count": 47,
   "id": "16dfa183-44a4-40bb-a175-62363227243d",
   "metadata": {},
   "outputs": [
    {
     "name": "stdout",
     "output_type": "stream",
     "text": [
      "False\n",
      "True\n"
     ]
    }
   ],
   "source": [
    "x = 10\n",
    "print(not (x > 5)) \n",
    "print(not (x < 5))"
   ]
  },
  {
   "cell_type": "markdown",
   "id": "18008578-ff85-437c-90a7-1da81423b809",
   "metadata": {},
   "source": [
    "### 5.Identity Operators\n",
    "\n",
    "Used to compare the memory location of two objects.\n",
    "\n",
    "Is (is): Returns True if both operands refer to the same object."
   ]
  },
  {
   "cell_type": "markdown",
   "id": "0f8e345d-5a44-4e57-9509-d3b162a86baf",
   "metadata": {},
   "source": [
    "Is not (is not): Returns True if both operands refer to different objects."
   ]
  },
  {
   "cell_type": "code",
   "execution_count": 24,
   "id": "c654c21a-514b-4689-9ef7-8928e751a6a2",
   "metadata": {},
   "outputs": [
    {
     "name": "stdout",
     "output_type": "stream",
     "text": [
      "True\n"
     ]
    }
   ],
   "source": [
    "a = [1, 2, 3]\n",
    "b = a\n",
    "print(a is b)  \n"
   ]
  },
  {
   "cell_type": "code",
   "execution_count": 22,
   "id": "b26dd87b-7af7-40ca-b0fe-1bfcab5066c0",
   "metadata": {},
   "outputs": [
    {
     "name": "stdout",
     "output_type": "stream",
     "text": [
      "True\n"
     ]
    }
   ],
   "source": [
    "a = [1, 2, 3]\n",
    "b = [1, 2, 3]\n",
    "print(a is not b) \n"
   ]
  },
  {
   "cell_type": "markdown",
   "id": "487cdabe-7acf-4f9a-8d72-258555e0edc4",
   "metadata": {},
   "source": [
    "### 6.Membership Operators\n",
    "\n",
    "Used to test if a value is a member of a sequence.\n",
    "\n",
    "In (in): Returns True if the value is found in the sequence."
   ]
  },
  {
   "cell_type": "markdown",
   "id": "ac312a5f-d177-453a-af23-0f771ed71b36",
   "metadata": {},
   "source": [
    "Not in (not in): Returns True if the value is not found in the sequence."
   ]
  },
  {
   "cell_type": "code",
   "execution_count": 34,
   "id": "a5b9cf3d-62d6-4bab-ac72-54d556152e33",
   "metadata": {},
   "outputs": [
    {
     "data": {
      "text/plain": [
       "True"
      ]
     },
     "execution_count": 34,
     "metadata": {},
     "output_type": "execute_result"
    }
   ],
   "source": [
    "2 in (1, 2, 3) "
   ]
  },
  {
   "cell_type": "code",
   "execution_count": 36,
   "id": "8ee19411-91d9-48e3-b854-42423e7f325d",
   "metadata": {},
   "outputs": [
    {
     "data": {
      "text/plain": [
       "True"
      ]
     },
     "execution_count": 36,
     "metadata": {},
     "output_type": "execute_result"
    }
   ],
   "source": [
    "4 not in (1, 2, 3) "
   ]
  },
  {
   "cell_type": "code",
   "execution_count": 38,
   "id": "2c81ac7e-1415-42d4-a20a-9a0e934b4cff",
   "metadata": {},
   "outputs": [
    {
     "data": {
      "text/plain": [
       "False"
      ]
     },
     "execution_count": 38,
     "metadata": {},
     "output_type": "execute_result"
    }
   ],
   "source": [
    "5 in (1,2,3)"
   ]
  },
  {
   "cell_type": "code",
   "execution_count": 42,
   "id": "f9595774-f4d4-4bf6-a785-e752873208e5",
   "metadata": {},
   "outputs": [
    {
     "data": {
      "text/plain": [
       "False"
      ]
     },
     "execution_count": 42,
     "metadata": {},
     "output_type": "execute_result"
    }
   ],
   "source": [
    "6 not in (5,6,7)"
   ]
  },
  {
   "cell_type": "markdown",
   "id": "f320963e-cf16-4903-8e6d-f72a6b872602",
   "metadata": {},
   "source": [
    "### 7.Bitwise operator"
   ]
  },
  {
   "cell_type": "markdown",
   "id": "5a9bc89b-b6f9-4a37-97d8-ca9f3f59da39",
   "metadata": {},
   "source": [
    "Operate on binary representations of integers.\n",
    "\n",
    "Bitwise AND (&): Performs a bitwise AND operation.\n",
    "\n",
    "5 & 3  \n",
    "    \n",
    "Bitwise OR (|): Performs a bitwise OR operation.\n",
    "\n",
    "5 | 3  \n",
    "    \n",
    "Bitwise XOR (^): Performs a bitwise XOR operation.\n",
    "\n",
    "5 ^ 3  \n",
    "    \n",
    "Bitwise NOT (~): Inverts all the bits.\n",
    "\n",
    "~5  \n",
    "\n",
    "Bitwise Left Shift (<<): Shifts bits to the left.\n",
    "\n",
    "5 << 1  \n",
    "    \n",
    "Bitwise Right Shift (>>): Shifts bits to the right.\n",
    "\n",
    "5 >> 1\n"
   ]
  },
  {
   "cell_type": "code",
   "execution_count": 49,
   "id": "48193813-db51-47d2-b0d7-93610ccfbba7",
   "metadata": {},
   "outputs": [
    {
     "data": {
      "text/plain": [
       "18"
      ]
     },
     "execution_count": 49,
     "metadata": {},
     "output_type": "execute_result"
    }
   ],
   "source": [
    "27 & 18"
   ]
  },
  {
   "cell_type": "code",
   "execution_count": 57,
   "id": "ecee0458-8296-4557-b4cb-9f861909d97a",
   "metadata": {},
   "outputs": [
    {
     "data": {
      "text/plain": [
       "122"
      ]
     },
     "execution_count": 57,
     "metadata": {},
     "output_type": "execute_result"
    }
   ],
   "source": [
    "56 | 90"
   ]
  },
  {
   "cell_type": "code",
   "execution_count": 59,
   "id": "e72a02bf-5254-4373-91d0-990e77ded123",
   "metadata": {},
   "outputs": [
    {
     "data": {
      "text/plain": [
       "62"
      ]
     },
     "execution_count": 59,
     "metadata": {},
     "output_type": "execute_result"
    }
   ],
   "source": [
    "56 ^ 6"
   ]
  },
  {
   "cell_type": "code",
   "execution_count": 63,
   "id": "ea4483a2-1dfe-45f9-ae5b-112ead40dc1e",
   "metadata": {},
   "outputs": [
    {
     "data": {
      "text/plain": [
       "-6"
      ]
     },
     "execution_count": 63,
     "metadata": {},
     "output_type": "execute_result"
    }
   ],
   "source": [
    "~ 5"
   ]
  },
  {
   "cell_type": "code",
   "execution_count": 65,
   "id": "e21c6a1e-3b3b-4921-a8a7-3c6ea5cc05b8",
   "metadata": {},
   "outputs": [
    {
     "data": {
      "text/plain": [
       "60"
      ]
     },
     "execution_count": 65,
     "metadata": {},
     "output_type": "execute_result"
    }
   ],
   "source": [
    "973 >> 4"
   ]
  },
  {
   "cell_type": "code",
   "execution_count": 71,
   "id": "108352ab-9b88-428a-9a0e-caa08b988fde",
   "metadata": {},
   "outputs": [
    {
     "data": {
      "text/plain": [
       "572"
      ]
     },
     "execution_count": 71,
     "metadata": {},
     "output_type": "execute_result"
    }
   ],
   "source": [
    "143 << 2"
   ]
  },
  {
   "cell_type": "code",
   "execution_count": null,
   "id": "6a861c40-4c62-4864-a954-11ba54bad965",
   "metadata": {},
   "outputs": [],
   "source": []
  }
 ],
 "metadata": {
  "kernelspec": {
   "display_name": "Python 3 (ipykernel)",
   "language": "python",
   "name": "python3"
  },
  "language_info": {
   "codemirror_mode": {
    "name": "ipython",
    "version": 3
   },
   "file_extension": ".py",
   "mimetype": "text/x-python",
   "name": "python",
   "nbconvert_exporter": "python",
   "pygments_lexer": "ipython3",
   "version": "3.12.4"
  }
 },
 "nbformat": 4,
 "nbformat_minor": 5
}
