{
 "cells": [
  {
   "cell_type": "markdown",
   "id": "d3d8fd79-c6b6-4d84-89be-5d8c9c3bc7c6",
   "metadata": {},
   "source": [
    "### What is python?"
   ]
  },
  {
   "cell_type": "markdown",
   "id": "d5f7c392-6845-4d32-bd9f-49988bb59b3f",
   "metadata": {},
   "source": [
    "Python is a programming language that is interpreted, object-oriented, and considered to be high-level too.<br> "
   ]
  },
  {
   "cell_type": "markdown",
   "id": "cbc716b1-8cee-4529-a825-7a1041e76983",
   "metadata": {},
   "source": [
    "Python is one of the easiest yet most useful programming languages which is widely used in the software industry."
   ]
  },
  {
   "cell_type": "markdown",
   "id": "ccab88cc-c79b-4477-b21c-51a50fa23bca",
   "metadata": {},
   "source": [
    "### History of python?"
   ]
  },
  {
   "cell_type": "markdown",
   "id": "ceb27e3c-355f-4930-9f9c-46181394e3fc",
   "metadata": {},
   "source": [
    "Python was created in 1980s by Guido van Rossum. During his research at the National Research Institute for Mathematics and Computer Science in the Netherlands, he created Python – a super easy programming language in terms of reading and usage.<br>"
   ]
  },
  {
   "cell_type": "markdown",
   "id": "fbf7d5e1-f7a6-43ac-92d4-bd694bcdaaf6",
   "metadata": {},
   "source": [
    "The first ever version was released in the year 1991 which had only a few built-in data types and basic functionality."
   ]
  },
  {
   "cell_type": "markdown",
   "id": "94fe10f4-c23e-415f-8b88-e52c0c3f777d",
   "metadata": {},
   "source": [
    "### Python features?"
   ]
  },
  {
   "cell_type": "markdown",
   "id": "15ec0711-c075-4465-bd47-93124c9c37aa",
   "metadata": {},
   "source": [
    "Easy to read and understand<br>\n",
    "Interpreted language<br>\n",
    "Object-oriented programming language<br>\n",
    "Free and open-source<br>\n",
    "Versatile and Extensible<br>\n",
    "Multi-platform<br>\n",
    "Hundreds of libraries and frameworks<br>\n",
    "Flexible, supports GUI<br>\n",
    "Dynamically typed<br>\n",
    "Huge and active community<br>"
   ]
  },
  {
   "cell_type": "markdown",
   "id": "35d5f8fb-2f30-4961-8d11-77b1b53d7a5e",
   "metadata": {},
   "source": [
    "### Applications of python?"
   ]
  },
  {
   "cell_type": "markdown",
   "id": "9900d4a5-a386-4f8a-8ec1-0f362c4af81e",
   "metadata": {},
   "source": [
    "1. Web Development<br>\n",
    "Frameworks: Django, Flask, FastAPI\n",
    "Applications: Building dynamic websites, web APIs, content management systems.\n",
    "2. Data Science and Analytics<br>\n",
    "Libraries: Pandas, NumPy, Matplotlib, Seaborn\n",
    "Applications: Data manipulation, statistical analysis, data visualization, exploratory data analysis.\n",
    "3. Machine Learning and Artificial Intelligence<br>\n",
    "Libraries: TensorFlow, Keras, PyTorch, Scikit-learn\n",
    "Applications: Building predictive models, natural language processing, image recognition, reinforcement learning.\n",
    "4. Automation and Scripting<br>\n",
    "Tools: Selenium, Requests, BeautifulSoup\n",
    "Applications: Automating repetitive tasks, web scraping, batch processing files.\n",
    "5. Software Development<br>\n",
    "Libraries: PyQt, Tkinter\n",
    "Applications: Building desktop applications with graphical user interfaces (GUIs).\n",
    "6. Game Development<br>\n",
    "Libraries: Pygame, Panda3D\n",
    "Applications: Creating games, simulations, and interactive applications."
   ]
  },
  {
   "cell_type": "markdown",
   "id": "022b0a6e-eb13-4418-8638-b969bf4837d7",
   "metadata": {},
   "source": [
    "### Advantages of python?"
   ]
  },
  {
   "cell_type": "markdown",
   "id": "3f16ccba-517d-4787-8860-a9a96069024b",
   "metadata": {},
   "source": [
    "Easy to learn, read, and understand<br>\n",
    "Versatile and open-source<br>\n",
    "Improves productivity<br>\n",
    "Supports libraries<br>\n",
    "Huge library<br>\n",
    "Strong community<br>\n",
    "Interpreted language"
   ]
  },
  {
   "cell_type": "markdown",
   "id": "bdd41912-be07-4656-b856-56feab4c5ba6",
   "metadata": {},
   "source": [
    "### Disadvantages of python?"
   ]
  },
  {
   "cell_type": "markdown",
   "id": "bee2eab2-55c2-4c00-be36-dcb290cccfe6",
   "metadata": {},
   "source": [
    "Restrictions in design<br>\n",
    "Memory inefficient<br>\n",
    "Weak mobile computing<br>\n",
    "Runtime errors<br>\n",
    "Slow execution speed"
   ]
  },
  {
   "cell_type": "markdown",
   "id": "24218268-38a1-48cd-901c-79be7ca519c1",
   "metadata": {},
   "source": [
    "### Python first code?"
   ]
  },
  {
   "cell_type": "code",
   "execution_count": 24,
   "id": "c5033554-35ab-4b44-a001-870ccf2fe165",
   "metadata": {},
   "outputs": [
    {
     "name": "stdout",
     "output_type": "stream",
     "text": [
      "Hello world\n"
     ]
    }
   ],
   "source": [
    "print(\"Hello world\")"
   ]
  },
  {
   "cell_type": "markdown",
   "id": "e49b147a-9516-4593-8c7f-abcb4b06bff7",
   "metadata": {},
   "source": [
    "### Explain abouts comments?"
   ]
  },
  {
   "cell_type": "markdown",
   "id": "a8206c16-03af-49c5-a88a-84138aa21c95",
   "metadata": {},
   "source": [
    "1. Single-Line Comments\n",
    "Single-line comments start with a # symbol. Everything following the # on that line is considered a comment. These comments are used to add brief explanations or notes."
   ]
  },
  {
   "cell_type": "markdown",
   "id": "b4ed9a1b-4a42-4f56-806b-f306d134ee88",
   "metadata": {},
   "source": [
    "2. Multi-Line Comments\n",
    "Python does not have a specific syntax for multi-line comments, but you can achieve this using multiple single-line comments or a multi-line string (although the latter is not technically a comment)."
   ]
  },
  {
   "cell_type": "markdown",
   "id": "b80e1291-dc6c-4f56-b8d5-5441d2a2ef06",
   "metadata": {},
   "source": [
    "### Explain about keywords?"
   ]
  },
  {
   "cell_type": "code",
   "execution_count": 32,
   "id": "b4db132c-8f7e-4ed1-8207-fb743ba91317",
   "metadata": {},
   "outputs": [
    {
     "name": "stdout",
     "output_type": "stream",
     "text": [
      "['False', 'None', 'True', 'and', 'as', 'assert', 'async', 'await', 'break', 'class', 'continue', 'def', 'del', 'elif', 'else', 'except', 'finally', 'for', 'from', 'global', 'if', 'import', 'in', 'is', 'lambda', 'nonlocal', 'not', 'or', 'pass', 'raise', 'return', 'try', 'while', 'with', 'yield']\n"
     ]
    }
   ],
   "source": [
    "import keyword\n",
    "print(keyword.kwlist)\n"
   ]
  },
  {
   "cell_type": "code",
   "execution_count": null,
   "id": "f2320b94-97a3-47a7-ab28-e7b01b273f8a",
   "metadata": {},
   "outputs": [],
   "source": []
  }
 ],
 "metadata": {
  "kernelspec": {
   "display_name": "Python 3 (ipykernel)",
   "language": "python",
   "name": "python3"
  },
  "language_info": {
   "codemirror_mode": {
    "name": "ipython",
    "version": 3
   },
   "file_extension": ".py",
   "mimetype": "text/x-python",
   "name": "python",
   "nbconvert_exporter": "python",
   "pygments_lexer": "ipython3",
   "version": "3.12.4"
  }
 },
 "nbformat": 4,
 "nbformat_minor": 5
}
