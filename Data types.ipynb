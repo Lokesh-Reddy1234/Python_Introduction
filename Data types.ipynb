{
 "cells": [
  {
   "cell_type": "markdown",
   "id": "d3ac376b-bf49-415c-adc1-61c2198f96de",
   "metadata": {},
   "source": [
    "## Data types "
   ]
  },
  {
   "cell_type": "markdown",
   "id": "5f18ef11-2e57-483e-b66b-4c985d04374f",
   "metadata": {},
   "source": [
    "### 1.Integer data types"
   ]
  },
  {
   "cell_type": "markdown",
   "id": "f50b21b7-35d9-4f2c-b440-68efdc4c4da7",
   "metadata": {},
   "source": [
    "An integer data type is used to represent whole numbers, which can be positive, negative, or zero. It’s a fundamental data type in programming languages and is commonly used for counting, indexing, and performing arithmetic operations."
   ]
  },
  {
   "cell_type": "code",
   "execution_count": 10,
   "id": "8549c3eb-0925-42e1-90ff-287789a61b1b",
   "metadata": {},
   "outputs": [
    {
     "name": "stdout",
     "output_type": "stream",
     "text": [
      "50.0\n"
     ]
    }
   ],
   "source": [
    "x = 50\n",
    "a = float(x)\n",
    "print(a)"
   ]
  },
  {
   "cell_type": "code",
   "execution_count": 19,
   "id": "a3e2c487-cc03-476b-95ad-8088e352348b",
   "metadata": {},
   "outputs": [
    {
     "name": "stdout",
     "output_type": "stream",
     "text": [
      "(50+0j)\n"
     ]
    }
   ],
   "source": [
    "a = complex(x)\n",
    "print(a)"
   ]
  },
  {
   "cell_type": "code",
   "execution_count": 21,
   "id": "41cecbf2-ca3c-4d32-b58b-f8b659b81d68",
   "metadata": {},
   "outputs": [
    {
     "name": "stdout",
     "output_type": "stream",
     "text": [
      "-60.0\n"
     ]
    }
   ],
   "source": [
    "y = -60\n",
    "a = float(y)\n",
    "print(a)"
   ]
  },
  {
   "cell_type": "code",
   "execution_count": 23,
   "id": "c9262297-2482-4b2e-911e-d1869f85922f",
   "metadata": {},
   "outputs": [
    {
     "name": "stdout",
     "output_type": "stream",
     "text": [
      "(-60+0j)\n"
     ]
    }
   ],
   "source": [
    "a = complex(y)\n",
    "print(a)"
   ]
  },
  {
   "cell_type": "code",
   "execution_count": 25,
   "id": "956097dc-0551-4788-8e96-c928e869e6fa",
   "metadata": {},
   "outputs": [
    {
     "name": "stdout",
     "output_type": "stream",
     "text": [
      "0.0\n"
     ]
    }
   ],
   "source": [
    "z = 0\n",
    "a = float(z)\n",
    "print(a)"
   ]
  },
  {
   "cell_type": "code",
   "execution_count": 27,
   "id": "a90af738-be44-4243-84f3-2a3a28e464b3",
   "metadata": {},
   "outputs": [
    {
     "name": "stdout",
     "output_type": "stream",
     "text": [
      "0j\n"
     ]
    }
   ],
   "source": [
    "a = complex(z)\n",
    "print(a)"
   ]
  },
  {
   "cell_type": "markdown",
   "id": "642bdfde-b409-43d8-ae74-4ffdb3f3d258",
   "metadata": {},
   "source": [
    "### 2.Float data types"
   ]
  },
  {
   "cell_type": "markdown",
   "id": "4fbe7c6f-ed44-4dcc-9005-1f7c1334a68e",
   "metadata": {},
   "source": [
    "The float type in Python represents the floating point number. Float is used to represent real numbers and is written with a decimal point dividing the integer and fractional parts."
   ]
  },
  {
   "cell_type": "code",
   "execution_count": 46,
   "id": "14fe3d83-7c1c-4586-8c30-f9ec0b3f0e99",
   "metadata": {},
   "outputs": [
    {
     "name": "stdout",
     "output_type": "stream",
     "text": [
      "10\n"
     ]
    }
   ],
   "source": [
    "x = 10.5\n",
    "a = int(x)\n",
    "print(a)"
   ]
  },
  {
   "cell_type": "code",
   "execution_count": 48,
   "id": "2ba645da-22be-4fc8-8c8f-b341eccb5b8d",
   "metadata": {},
   "outputs": [
    {
     "name": "stdout",
     "output_type": "stream",
     "text": [
      "(10.5+0j)\n"
     ]
    }
   ],
   "source": [
    "a = complex(x)\n",
    "print(a)"
   ]
  },
  {
   "cell_type": "code",
   "execution_count": 51,
   "id": "c8068208-d323-4e01-83fe-71d8476688ed",
   "metadata": {},
   "outputs": [
    {
     "name": "stdout",
     "output_type": "stream",
     "text": [
      "-45\n"
     ]
    }
   ],
   "source": [
    "y = -45.9\n",
    "a = int(y)\n",
    "print(a)"
   ]
  },
  {
   "cell_type": "code",
   "execution_count": 53,
   "id": "e7069d7d-b801-47cd-a394-1553e2d17c2a",
   "metadata": {},
   "outputs": [
    {
     "name": "stdout",
     "output_type": "stream",
     "text": [
      "(-45.9+0j)\n"
     ]
    }
   ],
   "source": [
    "a = complex(y)\n",
    "print(a)"
   ]
  },
  {
   "cell_type": "code",
   "execution_count": 61,
   "id": "c36cb82f-fe25-4b05-88fe-bb1dba29e673",
   "metadata": {},
   "outputs": [
    {
     "name": "stdout",
     "output_type": "stream",
     "text": [
      "6559\n"
     ]
    }
   ],
   "source": [
    "z = 6559.8338\n",
    "a = int(z)\n",
    "print(a)"
   ]
  },
  {
   "cell_type": "code",
   "execution_count": 63,
   "id": "b51dd1fa-f5a7-48fe-b551-48a2518354ac",
   "metadata": {},
   "outputs": [
    {
     "name": "stdout",
     "output_type": "stream",
     "text": [
      "(6559.8338+0j)\n"
     ]
    }
   ],
   "source": [
    "a = complex(z)\n",
    "print(a)"
   ]
  },
  {
   "cell_type": "markdown",
   "id": "dae5381a-0945-43aa-ae3e-66d5db4632f2",
   "metadata": {},
   "source": [
    "### 3.Complex data types"
   ]
  },
  {
   "cell_type": "markdown",
   "id": "8d81fcfc-fe3a-459e-9279-bf645ed3b712",
   "metadata": {},
   "source": [
    "In Python, complex data types provide a versatile and powerful way to represent complex numbers. A complex number comprises a real part and an imaginary part, denoted as a + bi, where a is the real part, b is the imaginary part, and i is the imaginary unit."
   ]
  },
  {
   "cell_type": "code",
   "execution_count": 69,
   "id": "85cc4843-7a6e-49db-a6ab-03efc37ba174",
   "metadata": {},
   "outputs": [
    {
     "ename": "TypeError",
     "evalue": "int() argument must be a string, a bytes-like object or a real number, not 'complex'",
     "output_type": "error",
     "traceback": [
      "\u001b[1;31m---------------------------------------------------------------------------\u001b[0m",
      "\u001b[1;31mTypeError\u001b[0m                                 Traceback (most recent call last)",
      "Cell \u001b[1;32mIn[69], line 2\u001b[0m\n\u001b[0;32m      1\u001b[0m x \u001b[38;5;241m=\u001b[39m \u001b[38;5;241m3\u001b[39m\u001b[38;5;241m+\u001b[39m\u001b[38;5;241m2\u001b[39mj\n\u001b[1;32m----> 2\u001b[0m a \u001b[38;5;241m=\u001b[39m \u001b[38;5;28mint\u001b[39m(x)\n\u001b[0;32m      3\u001b[0m \u001b[38;5;28mprint\u001b[39m(a)\n",
      "\u001b[1;31mTypeError\u001b[0m: int() argument must be a string, a bytes-like object or a real number, not 'complex'"
     ]
    }
   ],
   "source": [
    "x = 3+2j\n",
    "a = int(x)\n",
    "print(a)"
   ]
  },
  {
   "cell_type": "code",
   "execution_count": 71,
   "id": "7a3f0b6f-23a7-4a6e-a87c-2db807fe404f",
   "metadata": {},
   "outputs": [
    {
     "ename": "TypeError",
     "evalue": "float() argument must be a string or a real number, not 'complex'",
     "output_type": "error",
     "traceback": [
      "\u001b[1;31m---------------------------------------------------------------------------\u001b[0m",
      "\u001b[1;31mTypeError\u001b[0m                                 Traceback (most recent call last)",
      "Cell \u001b[1;32mIn[71], line 1\u001b[0m\n\u001b[1;32m----> 1\u001b[0m a \u001b[38;5;241m=\u001b[39m \u001b[38;5;28mfloat\u001b[39m(x)\n\u001b[0;32m      2\u001b[0m \u001b[38;5;28mprint\u001b[39m(a)\n",
      "\u001b[1;31mTypeError\u001b[0m: float() argument must be a string or a real number, not 'complex'"
     ]
    }
   ],
   "source": [
    "a = float(x)\n",
    "print(a)"
   ]
  },
  {
   "cell_type": "markdown",
   "id": "a833e996-8f02-426d-a950-76450e6fc13e",
   "metadata": {},
   "source": [
    "### 4.Boolean data types"
   ]
  },
  {
   "cell_type": "markdown",
   "id": "b998a529-5949-4b95-aca7-6f9fe77043e8",
   "metadata": {},
   "source": [
    "The boolean data type is either True or False. In Python, boolean variables are defined by the True and False keywords."
   ]
  },
  {
   "cell_type": "code",
   "execution_count": 97,
   "id": "4ecf581c-0fc0-461d-95ab-38e24b8112a6",
   "metadata": {},
   "outputs": [
    {
     "name": "stdout",
     "output_type": "stream",
     "text": [
      "True\n"
     ]
    }
   ],
   "source": [
    "x = 1==1\n",
    "print(x)"
   ]
  },
  {
   "cell_type": "code",
   "execution_count": 81,
   "id": "282bfed3-f57d-4916-a40d-196271bec06f",
   "metadata": {},
   "outputs": [
    {
     "name": "stdout",
     "output_type": "stream",
     "text": [
      "False\n"
     ]
    }
   ],
   "source": [
    "y = 10<5\n",
    "print(y)"
   ]
  },
  {
   "cell_type": "code",
   "execution_count": 85,
   "id": "b70ae327-e983-443d-b547-50f262dd4fe2",
   "metadata": {},
   "outputs": [
    {
     "name": "stdout",
     "output_type": "stream",
     "text": [
      "False\n"
     ]
    }
   ],
   "source": [
    "z = -20>5\n",
    "print(z)"
   ]
  },
  {
   "cell_type": "code",
   "execution_count": 89,
   "id": "370033ec-0a73-41f9-b12d-439db857cb76",
   "metadata": {},
   "outputs": [
    {
     "name": "stdout",
     "output_type": "stream",
     "text": [
      "True\n"
     ]
    }
   ],
   "source": [
    "a = 10\n",
    "b = 20\n",
    "c = a<b\n",
    "print(c)"
   ]
  },
  {
   "cell_type": "code",
   "execution_count": null,
   "id": "1e169227-b30c-409b-b949-b6017dcd7a0c",
   "metadata": {},
   "outputs": [],
   "source": []
  }
 ],
 "metadata": {
  "kernelspec": {
   "display_name": "Python 3 (ipykernel)",
   "language": "python",
   "name": "python3"
  },
  "language_info": {
   "codemirror_mode": {
    "name": "ipython",
    "version": 3
   },
   "file_extension": ".py",
   "mimetype": "text/x-python",
   "name": "python",
   "nbconvert_exporter": "python",
   "pygments_lexer": "ipython3",
   "version": "3.12.4"
  }
 },
 "nbformat": 4,
 "nbformat_minor": 5
}
