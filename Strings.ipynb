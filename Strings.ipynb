{
 "cells": [
  {
   "cell_type": "markdown",
   "id": "08abb23e-30a3-4a8e-931f-6ecc528282f1",
   "metadata": {},
   "source": [
    "### Python Strings"
   ]
  },
  {
   "cell_type": "markdown",
   "id": "04cd3da1-322d-4855-8e27-5d3cf942ecc1",
   "metadata": {},
   "source": [
    "#### What is string?"
   ]
  },
  {
   "cell_type": "markdown",
   "id": "67d7f7ff-6ce3-4ccd-b0f2-a05e93a1772e",
   "metadata": {},
   "source": [
    "Python string is the collection of the characters surrounded by single quotes, double quotes, or triple quotes. The computer does not understand the characters; internally, it stores manipulated character as the combination of the 0's and 1's."
   ]
  },
  {
   "cell_type": "markdown",
   "id": "eb9308ea-79f6-4aa9-bfa6-d662edaf546f",
   "metadata": {},
   "source": [
    "In Python, strings can be created by enclosing the character or the sequence of characters in the quotes. Python allows us to use single quotes, double quotes, or triple quotes to create the string."
   ]
  },
  {
   "cell_type": "code",
   "execution_count": 5,
   "id": "eb498c69-745c-429d-a31a-c07f10335ddf",
   "metadata": {},
   "outputs": [],
   "source": [
    "mystring = 'Hello world'\n",
    "mystring = \"Hello world\"\n",
    "mystring = \"\"\"Hello world\"\"\""
   ]
  },
  {
   "cell_type": "markdown",
   "id": "0eaade19-b9dd-46bc-ae2e-3c4b8238c3f7",
   "metadata": {},
   "source": [
    "### Representation of string"
   ]
  },
  {
   "cell_type": "code",
   "execution_count": 138,
   "id": "8cbc58b6-a84f-4d36-ab98-929074348562",
   "metadata": {},
   "outputs": [],
   "source": [
    "string1 = 'Hello world' \n",
    "string2 = \"python is easy\" \n",
    "string3 = \"\"\"python is fun\"\"\" \n",
    "string4 = 'this is a string' \n",
    "string5 = \"12345\" "
   ]
  },
  {
   "cell_type": "markdown",
   "id": "a0e73ce0-cc96-4c1d-be73-058555ba3373",
   "metadata": {},
   "source": [
    "### String Operations:"
   ]
  },
  {
   "cell_type": "markdown",
   "id": "16ac47a3-1c9d-4d16-aa9c-8db1723f3fcc",
   "metadata": {},
   "source": [
    "#### 1.Concatination:"
   ]
  },
  {
   "cell_type": "code",
   "execution_count": 142,
   "id": "bd13ec53-7267-4043-809f-118c45faa97c",
   "metadata": {},
   "outputs": [
    {
     "name": "stdout",
     "output_type": "stream",
     "text": [
      "Hello worldpython is easypython is funthis is a string12345\n"
     ]
    }
   ],
   "source": [
    "result = string1 + string2 + string3 + string4 + string5\n",
    "print(result)"
   ]
  },
  {
   "cell_type": "code",
   "execution_count": 144,
   "id": "88495b56-cb08-4883-96ed-25f10e97df68",
   "metadata": {},
   "outputs": [
    {
     "name": "stdout",
     "output_type": "stream",
     "text": [
      "Hello world python is easy python is fun this is a string 12345\n"
     ]
    }
   ],
   "source": [
    "result = string1 + \" \" + string2 + \" \" + string3 + \" \" + string4 + \" \" + string5\n",
    "print(result)"
   ]
  },
  {
   "cell_type": "code",
   "execution_count": 146,
   "id": "10da53db-4d42-459a-9c21-73edacf4822e",
   "metadata": {},
   "outputs": [
    {
     "name": "stdout",
     "output_type": "stream",
     "text": [
      "Hello world,python is easy,python is fun,this is a string,12345\n"
     ]
    }
   ],
   "source": [
    "result = string1 + \",\" + string2 + \",\" + string3 + \",\" + string4 + \",\" + string5\n",
    "print(result)"
   ]
  },
  {
   "cell_type": "markdown",
   "id": "a9b5bc25-9e28-4e9f-8e13-3200f76d0993",
   "metadata": {},
   "source": [
    "#### 2.Repetition:"
   ]
  },
  {
   "cell_type": "code",
   "execution_count": 111,
   "id": "e1288be5-2e8a-44b3-8b62-fdb68758f9d8",
   "metadata": {},
   "outputs": [],
   "source": [
    "string6 = 'Hello world \\n' \n",
    "string7 = \"python is easy \\n\" \n",
    "string8 = \"\"\"python is fun \\n\"\"\" \n",
    "string9 = 'this is a string \\n' \n",
    "string10 = \"12345 \\n\""
   ]
  },
  {
   "cell_type": "code",
   "execution_count": 113,
   "id": "fabe10ac-034c-4ebc-973c-b5bbc966b11f",
   "metadata": {},
   "outputs": [
    {
     "name": "stdout",
     "output_type": "stream",
     "text": [
      "Hello world \n",
      "Hello world \n",
      "Hello world \n",
      "Hello world \n",
      "Hello world \n",
      "\n"
     ]
    }
   ],
   "source": [
    "result1 = string6*5\n",
    "print(result1)"
   ]
  },
  {
   "cell_type": "code",
   "execution_count": 115,
   "id": "f9b559d1-38eb-4170-b3e9-fcf854ffb6bc",
   "metadata": {},
   "outputs": [
    {
     "name": "stdout",
     "output_type": "stream",
     "text": [
      "python is easy \n",
      "python is easy \n",
      "python is easy \n",
      "python is easy \n",
      "python is easy \n",
      "\n"
     ]
    }
   ],
   "source": [
    "result2 = string7*5\n",
    "print(result2)"
   ]
  },
  {
   "cell_type": "code",
   "execution_count": 117,
   "id": "baf3eec4-fcfe-4666-ba4f-c2d2621c4471",
   "metadata": {},
   "outputs": [
    {
     "name": "stdout",
     "output_type": "stream",
     "text": [
      "python is fun \n",
      "python is fun \n",
      "python is fun \n",
      "python is fun \n",
      "python is fun \n",
      "\n"
     ]
    }
   ],
   "source": [
    "result3 = string8*5\n",
    "print(result3)"
   ]
  },
  {
   "cell_type": "code",
   "execution_count": 119,
   "id": "471f0e87-fffe-4067-8f88-24be86ae068e",
   "metadata": {},
   "outputs": [
    {
     "name": "stdout",
     "output_type": "stream",
     "text": [
      "this is a string \n",
      "this is a string \n",
      "this is a string \n",
      "this is a string \n",
      "this is a string \n",
      "\n"
     ]
    }
   ],
   "source": [
    "result4 = string9*5\n",
    "print(result4)"
   ]
  },
  {
   "cell_type": "code",
   "execution_count": 121,
   "id": "5136dde8-4f68-4477-af33-196305602cae",
   "metadata": {},
   "outputs": [
    {
     "name": "stdout",
     "output_type": "stream",
     "text": [
      "12345 \n",
      "12345 \n",
      "12345 \n",
      "12345 \n",
      "12345 \n",
      "\n"
     ]
    }
   ],
   "source": [
    "result5 = string10*5\n",
    "print(result5)"
   ]
  },
  {
   "cell_type": "markdown",
   "id": "4920bde4-dfa9-48c4-bcf8-e1f4bd8b18fd",
   "metadata": {},
   "source": [
    "### Python string Indexing"
   ]
  },
  {
   "cell_type": "code",
   "execution_count": 158,
   "id": "d5cd3f76-dc09-4bfd-84bd-9eca639da933",
   "metadata": {},
   "outputs": [],
   "source": [
    "Text = \"Lorem ipsum dolor sit amet, consectetur adipiscing elit. Nulla convallis dignissim nisl, vel feugiat nisi interdum at. Nam ac massa nec odio pretium commodo. Vestibulum ante ipsum primis in faucibus orci luctus et ultrices posuere cubilia curae; Donec a libero quis lorem convallis dictum. Quisque auctor eros sed orci volutpat, sit amet tristique sem iaculis. Phasellus vitae elit et velit hendrerit dignissim. Curabitur sed eros ut mi fringilla vulputate. Mauris lacinia, libero ac elementum auctor, dolor orci egestas justo, at fermentum turpis leo non lorem. Praesent nec dui orci.\"\n"
   ]
  },
  {
   "cell_type": "code",
   "execution_count": 160,
   "id": "ef360e8a-a880-47ce-9c92-64472c16844d",
   "metadata": {},
   "outputs": [
    {
     "name": "stdout",
     "output_type": "stream",
     "text": [
      "p\n"
     ]
    }
   ],
   "source": [
    "print(Text[7])"
   ]
  },
  {
   "cell_type": "code",
   "execution_count": 162,
   "id": "0db7c54c-cdb5-4c3b-a9d9-995aa4dfdf3b",
   "metadata": {},
   "outputs": [
    {
     "name": "stdout",
     "output_type": "stream",
     "text": [
      " \n"
     ]
    }
   ],
   "source": [
    "print(Text[21])"
   ]
  },
  {
   "cell_type": "code",
   "execution_count": 164,
   "id": "17ef629f-239d-4013-9771-a7fdcb422860",
   "metadata": {},
   "outputs": [
    {
     "name": "stdout",
     "output_type": "stream",
     "text": [
      "i\n"
     ]
    }
   ],
   "source": [
    "print(Text[47])"
   ]
  },
  {
   "cell_type": "code",
   "execution_count": 166,
   "id": "fb7f36ff-702a-40cd-afb7-dac0ef48f308",
   "metadata": {},
   "outputs": [
    {
     "name": "stdout",
     "output_type": "stream",
     "text": [
      " \n"
     ]
    }
   ],
   "source": [
    "print(Text[105])"
   ]
  },
  {
   "cell_type": "code",
   "execution_count": 168,
   "id": "a754ce39-441b-42e5-80b8-553439c7980f",
   "metadata": {},
   "outputs": [
    {
     "name": "stdout",
     "output_type": "stream",
     "text": [
      "s\n"
     ]
    }
   ],
   "source": [
    "print(Text[129])"
   ]
  },
  {
   "cell_type": "code",
   "execution_count": 170,
   "id": "435cfac8-d6c7-4b15-ac0e-3876d4f41e12",
   "metadata": {},
   "outputs": [
    {
     "name": "stdout",
     "output_type": "stream",
     "text": [
      "c\n"
     ]
    }
   ],
   "source": [
    "print(Text[201])"
   ]
  },
  {
   "cell_type": "code",
   "execution_count": 172,
   "id": "ef637d62-d7ab-4427-a87d-7fb193e94410",
   "metadata": {},
   "outputs": [
    {
     "name": "stdout",
     "output_type": "stream",
     "text": [
      "e\n"
     ]
    }
   ],
   "source": [
    "print(Text[249])"
   ]
  },
  {
   "cell_type": "code",
   "execution_count": 174,
   "id": "f6bdac2c-5f6a-47f6-9aa2-e4c0bc1aab89",
   "metadata": {},
   "outputs": [
    {
     "name": "stdout",
     "output_type": "stream",
     "text": [
      "e\n"
     ]
    }
   ],
   "source": [
    "print(Text[311])"
   ]
  },
  {
   "cell_type": "code",
   "execution_count": 176,
   "id": "de109576-826c-4905-b650-176ac2a3743e",
   "metadata": {},
   "outputs": [
    {
     "name": "stdout",
     "output_type": "stream",
     "text": [
      "r\n"
     ]
    }
   ],
   "source": [
    "print(Text[395])"
   ]
  },
  {
   "cell_type": "code",
   "execution_count": 178,
   "id": "ab4548b8-b685-4652-a6f1-5d190a4d7c45",
   "metadata": {},
   "outputs": [
    {
     "name": "stdout",
     "output_type": "stream",
     "text": [
      "m\n"
     ]
    }
   ],
   "source": [
    "print(Text[409])"
   ]
  },
  {
   "cell_type": "code",
   "execution_count": 180,
   "id": "0db5da69-a324-49df-95b8-ab2dea0138e3",
   "metadata": {},
   "outputs": [
    {
     "name": "stdout",
     "output_type": "stream",
     "text": [
      "t\n"
     ]
    }
   ],
   "source": [
    "print(Text[418])"
   ]
  },
  {
   "cell_type": "code",
   "execution_count": 182,
   "id": "623b5cd2-d5e7-4b25-abe9-238a4644f329",
   "metadata": {},
   "outputs": [
    {
     "name": "stdout",
     "output_type": "stream",
     "text": [
      "r\n"
     ]
    }
   ],
   "source": [
    "print(Text[420])"
   ]
  },
  {
   "cell_type": "markdown",
   "id": "ee4547ef-d20d-4a9e-91f7-b91f9c55472a",
   "metadata": {},
   "source": [
    "### Python string slicing"
   ]
  },
  {
   "cell_type": "code",
   "execution_count": 200,
   "id": "d71a04c1-91e8-4b60-ba9c-e5609ea5cb1d",
   "metadata": {},
   "outputs": [
    {
     "name": "stdout",
     "output_type": "stream",
     "text": [
      " ipsu\n"
     ]
    }
   ],
   "source": [
    "print(Text[5:10])"
   ]
  },
  {
   "cell_type": "code",
   "execution_count": 188,
   "id": "39dd4ce0-24e7-4783-9c03-0e2f76dbb2bb",
   "metadata": {},
   "outputs": [
    {
     "name": "stdout",
     "output_type": "stream",
     "text": [
      "m dolor si\n"
     ]
    }
   ],
   "source": [
    "print(Text[10:20])"
   ]
  },
  {
   "cell_type": "code",
   "execution_count": 194,
   "id": "45180002-3043-49e2-8fce-ae5a103d7838",
   "metadata": {},
   "outputs": [
    {
     "name": "stdout",
     "output_type": "stream",
     "text": [
      "is digniss\n"
     ]
    }
   ],
   "source": [
    "print(Text[70:80])"
   ]
  },
  {
   "cell_type": "code",
   "execution_count": 196,
   "id": "9af14d5c-9060-48b5-a060-77937a637224",
   "metadata": {},
   "outputs": [
    {
     "name": "stdout",
     "output_type": "stream",
     "text": [
      "tum. Quisque au\n"
     ]
    }
   ],
   "source": [
    "print(Text[285:300])"
   ]
  },
  {
   "cell_type": "code",
   "execution_count": 198,
   "id": "b2f0451b-8dda-41ed-8b5b-4808d8c2f499",
   "metadata": {},
   "outputs": [
    {
     "name": "stdout",
     "output_type": "stream",
     "text": [
      "r sed eros ut mi fringilla vul\n"
     ]
    }
   ],
   "source": [
    "print(Text[420:450])"
   ]
  },
  {
   "cell_type": "code",
   "execution_count": null,
   "id": "a2f15124-3561-4a0c-91fa-5e27e33cb207",
   "metadata": {},
   "outputs": [],
   "source": []
  }
 ],
 "metadata": {
  "kernelspec": {
   "display_name": "Python 3 (ipykernel)",
   "language": "python",
   "name": "python3"
  },
  "language_info": {
   "codemirror_mode": {
    "name": "ipython",
    "version": 3
   },
   "file_extension": ".py",
   "mimetype": "text/x-python",
   "name": "python",
   "nbconvert_exporter": "python",
   "pygments_lexer": "ipython3",
   "version": "3.12.4"
  }
 },
 "nbformat": 4,
 "nbformat_minor": 5
}
