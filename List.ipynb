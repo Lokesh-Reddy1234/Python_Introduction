{
 "cells": [
  {
   "cell_type": "markdown",
   "id": "b2afccb4-1050-4bad-8d55-c71eddc63d56",
   "metadata": {},
   "source": [
    "### What is List"
   ]
  },
  {
   "cell_type": "markdown",
   "id": "1d4aed63-c702-4979-aa18-75ffc771cc67",
   "metadata": {},
   "source": [
    "Lists are used to store multiple items in a single variable.\r\n",
    "\r\n",
    "Lists are one of 4 built-in data types in Python used to store collections of data, the other 3 are Tuple, Set, and Dictionary, all with different qualities and usage."
   ]
  },
  {
   "cell_type": "markdown",
   "id": "db6da728-dceb-444e-99bb-0b6f4e03a9d9",
   "metadata": {},
   "source": [
    "Python Lists are just like dynamically sized arrays, declared in other languages (vector in C++ and ArrayList in Java). In simple language, a list is a collection of things, enclosed in [ ] and separated by commas."
   ]
  },
  {
   "cell_type": "code",
   "execution_count": 7,
   "id": "88c10e67-63ee-4b32-ba1d-9ae769442475",
   "metadata": {},
   "outputs": [
    {
     "name": "stdout",
     "output_type": "stream",
     "text": [
      "['apple', 'banana', 'mango']\n"
     ]
    }
   ],
   "source": [
    "mylist = [\"apple\",\"banana\",\"mango\"]\n",
    "print(mylist)"
   ]
  },
  {
   "cell_type": "markdown",
   "id": "32e19357-0be6-406f-8ab4-53e3a67a4055",
   "metadata": {},
   "source": [
    "#### Examples of List"
   ]
  },
  {
   "cell_type": "code",
   "execution_count": 22,
   "id": "800b6176-9ce3-41d9-b058-5a8d1f5650be",
   "metadata": {},
   "outputs": [
    {
     "name": "stdout",
     "output_type": "stream",
     "text": [
      "[1, 2, 3, 4, 5]\n",
      "['apple', 'banana', 'mango']\n",
      "[3.4, 9.6, 8.4]\n",
      "[True, False, True, False]\n",
      "[10, 20, 30, 40, 50]\n"
     ]
    }
   ],
   "source": [
    "list1 = [1,2,3,4,5]\n",
    "list2 = [\"apple\",\"banana\",\"mango\"]\n",
    "list3 = [3.4,9.6,8.4]\n",
    "list4 = [True,False,True,False]\n",
    "list5 = [10,20,30,40,50]\n",
    "print(list1)\n",
    "print(list2)\n",
    "print(list3)\n",
    "print(list4)\n",
    "print(list5)\n"
   ]
  },
  {
   "cell_type": "markdown",
   "id": "06a3cd56-f358-4a58-b637-ff58d92fe701",
   "metadata": {},
   "source": [
    "### Indexing"
   ]
  },
  {
   "cell_type": "markdown",
   "id": "0753f57b-acfe-48b7-9e77-4bf3825a5614",
   "metadata": {},
   "source": [
    "You access a specific element in a list by its index(position).\n",
    "\n",
    "Index starts at 0: The first item is at index 0,the second at index 1,and so on."
   ]
  },
  {
   "cell_type": "markdown",
   "id": "5e8ba9f2-2b81-4a6f-bda0-4a13974d6b29",
   "metadata": {},
   "source": [
    "#### Positive Index"
   ]
  },
  {
   "cell_type": "markdown",
   "id": "b1140ec3-53bd-49f2-8891-6782175f78c6",
   "metadata": {},
   "source": [
    "In Python, positive zero-based indexing is the fundamental method for accessing iterable items.\n",
    "\n",
    "As a result, an index starting at 0 may refer to any element in the iterable.\n",
    "\n",
    "The first element in zero-based indexing has an index of 0, the second has an index of 1, and so on."
   ]
  },
  {
   "cell_type": "markdown",
   "id": "faf58e69-bc48-4595-aa19-ddad709b03a7",
   "metadata": {},
   "source": [
    "#### Negative Index"
   ]
  },
  {
   "cell_type": "markdown",
   "id": "ccc69e2e-93fb-4fce-affd-a492148a4430",
   "metadata": {},
   "source": [
    " The last element can be accessed using the index -1, the second to last element using the index -2, and so on.\n",
    " \n",
    " Negative indexes can be useful for accessing elements from the end of a data structure without having to know the exact length of the data structure."
   ]
  },
  {
   "cell_type": "markdown",
   "id": "52228e68-1469-4b69-97f9-0a512f798da0",
   "metadata": {},
   "source": [
    "#### Examples of Indexing"
   ]
  },
  {
   "cell_type": "code",
   "execution_count": 38,
   "id": "e2ea1ae6-28f5-4e98-b030-746ff5e6bfb4",
   "metadata": {},
   "outputs": [
    {
     "name": "stdout",
     "output_type": "stream",
     "text": [
      "1\n",
      "2\n",
      "3\n",
      "4\n",
      "5\n"
     ]
    }
   ],
   "source": [
    "mylist = [1,2,3,4,5]\n",
    "print(mylist[0])\n",
    "print(mylist[1])\n",
    "print(mylist[2])\n",
    "print(mylist[3])\n",
    "print(mylist[4])"
   ]
  },
  {
   "cell_type": "code",
   "execution_count": 36,
   "id": "d8fb0df2-efae-407f-9513-b74bba4d9a5d",
   "metadata": {},
   "outputs": [
    {
     "name": "stdout",
     "output_type": "stream",
     "text": [
      "5\n",
      "4\n",
      "3\n",
      "2\n",
      "1\n"
     ]
    }
   ],
   "source": [
    "mylist = [1,2,3,4,5]\n",
    "print(mylist[-1])\n",
    "print(mylist[-2])\n",
    "print(mylist[-3])\n",
    "print(mylist[-4])\n",
    "print(mylist[-5])"
   ]
  },
  {
   "cell_type": "markdown",
   "id": "86188e81-8416-446d-93f1-215adf47ec8c",
   "metadata": {},
   "source": [
    "### Slicing"
   ]
  },
  {
   "cell_type": "markdown",
   "id": "a838f76f-9073-41ba-b0a0-09e1a6c30c00",
   "metadata": {},
   "source": [
    "You can return a range of characters by using the slice syntax.\n",
    "\n",
    "Specify the start index and the end index, separated by a colon, to return a part of the string."
   ]
  },
  {
   "cell_type": "markdown",
   "id": "3c80c2da-dc7f-4845-8a06-14bf2cee2ecb",
   "metadata": {},
   "source": [
    "#### Examples of slicing"
   ]
  },
  {
   "cell_type": "code",
   "execution_count": 80,
   "id": "7fdb4290-37c5-4f9b-8e3f-430b0d1a6894",
   "metadata": {},
   "outputs": [
    {
     "name": "stdout",
     "output_type": "stream",
     "text": [
      "[1, 2, 3]\n",
      "[3, 4]\n",
      "[6, 7, 8, 9, 10]\n",
      "[1, 2, 3, 4, 5, 6, 7]\n",
      "[1, 2, 3, 4, 5, 6, 7, 8, 9, 10]\n"
     ]
    }
   ],
   "source": [
    "mylist = [1,2,3,4,5,6,7,8,9,10]\n",
    "print(mylist[0:3])\n",
    "print(mylist[2:4])\n",
    "print(mylist[5:])\n",
    "print(mylist[:7])\n",
    "print(mylist[:])"
   ]
  },
  {
   "cell_type": "markdown",
   "id": "2430b358-3eca-4c84-b9aa-3081b3ab6417",
   "metadata": {},
   "source": [
    "### Creating a list 1 to 20 numbers using 10 positive and 10 negative elements"
   ]
  },
  {
   "cell_type": "code",
   "execution_count": 66,
   "id": "ae66dc49-ed3a-4d3e-b377-dde358161c18",
   "metadata": {},
   "outputs": [
    {
     "name": "stdout",
     "output_type": "stream",
     "text": [
      "1\n",
      "2\n",
      "3\n",
      "4\n",
      "5\n",
      "6\n",
      "7\n",
      "8\n",
      "9\n",
      "10\n",
      "20\n",
      "19\n",
      "18\n",
      "17\n",
      "16\n",
      "15\n",
      "14\n",
      "13\n",
      "12\n",
      "11\n"
     ]
    }
   ],
   "source": [
    "numbers = [1,2,3,4,5,6,7,8,9,10,11,12,13,14,15,16,17,18,19,20]\n",
    "print(numbers[0])\n",
    "print(numbers[1])\n",
    "print(numbers[2])\n",
    "print(numbers[3])\n",
    "print(numbers[4])\n",
    "print(numbers[5])\n",
    "print(numbers[6])\n",
    "print(numbers[7])\n",
    "print(numbers[8])\n",
    "print(numbers[9])\n",
    "print(numbers[-1])\n",
    "print(numbers[-2])\n",
    "print(numbers[-3])\n",
    "print(numbers[-4])\n",
    "print(numbers[-5])\n",
    "print(numbers[-6])\n",
    "print(numbers[-7])\n",
    "print(numbers[-8])\n",
    "print(numbers[-9])\n",
    "print(numbers[-10])"
   ]
  },
  {
   "cell_type": "markdown",
   "id": "3b2196aa-2bfe-4f28-bed0-6200420cffa7",
   "metadata": {},
   "source": [
    "### Concatenation"
   ]
  },
  {
   "cell_type": "markdown",
   "id": "9fd17bc9-818d-46e3-a191-a885a2543c98",
   "metadata": {},
   "source": [
    "Concatenation in Python refers to combining sequences such as strings, lists, or tuples."
   ]
  },
  {
   "cell_type": "code",
   "execution_count": 70,
   "id": "c073e9ea-e04d-4d27-898c-7795f7888d05",
   "metadata": {},
   "outputs": [
    {
     "name": "stdout",
     "output_type": "stream",
     "text": [
      "[1, 2, 3, 4, 5, 6]\n"
     ]
    }
   ],
   "source": [
    "a = [1,2,3]\n",
    "b = [4,5,6]\n",
    "c = a+b\n",
    "print(c)"
   ]
  },
  {
   "cell_type": "code",
   "execution_count": 72,
   "id": "37168d39-e8c2-43ef-be09-ddeaf315e611",
   "metadata": {},
   "outputs": [
    {
     "name": "stdout",
     "output_type": "stream",
     "text": [
      "[1.2, 3.4, 4.5, 5.6, 6.8, 7.9]\n"
     ]
    }
   ],
   "source": [
    "list1 = [1.2,3.4,4.5]\n",
    "list2 = [5.6,6.8,7.9]\n",
    "list3 = list1 + list2\n",
    "print(list3)"
   ]
  },
  {
   "cell_type": "code",
   "execution_count": 78,
   "id": "24ce648e-97f1-4636-aa3a-f0f1c90f6c56",
   "metadata": {},
   "outputs": [
    {
     "name": "stdout",
     "output_type": "stream",
     "text": [
      "['apple', 'banana', 'cherry', 'tomato', 'brinjal', 'potato']\n"
     ]
    }
   ],
   "source": [
    "fruits = [\"apple\",\"banana\",\"cherry\"]\n",
    "vegetables = [\"tomato\",\"brinjal\",\"potato\"]\n",
    "mixed = fruits + vegetables\n",
    "print(mixed)"
   ]
  },
  {
   "cell_type": "code",
   "execution_count": 84,
   "id": "0b15ce05-f7ee-4a72-a6fe-9e7add082004",
   "metadata": {},
   "outputs": [
    {
     "name": "stdout",
     "output_type": "stream",
     "text": [
      "['Hello', 'world']\n"
     ]
    }
   ],
   "source": [
    "word1 = [\"Hello\"]\n",
    "word2 = [\"world\"]\n",
    "result = word1 + word2\n",
    "print(result)"
   ]
  },
  {
   "cell_type": "markdown",
   "id": "7c595f26-5b08-43cd-b062-99ad2631549f",
   "metadata": {},
   "source": [
    "### Repetition"
   ]
  },
  {
   "cell_type": "markdown",
   "id": "2f76cad5-9bf1-41b8-9fc9-79921d7abc89",
   "metadata": {},
   "source": [
    "Repetition in Python allows you to repeat sequences such as strings, lists, or tuples multiple times."
   ]
  },
  {
   "cell_type": "code",
   "execution_count": 90,
   "id": "35024ded-4504-411c-8e0c-769c0dbdddd9",
   "metadata": {},
   "outputs": [
    {
     "name": "stdout",
     "output_type": "stream",
     "text": [
      "[1, 2, 3, 4, 5, 1, 2, 3, 4, 5]\n"
     ]
    }
   ],
   "source": [
    "a = [1,2,3,4,5]\n",
    "print(a*2)"
   ]
  },
  {
   "cell_type": "code",
   "execution_count": 88,
   "id": "38f2b217-be7a-47a5-80d7-40469bf978f8",
   "metadata": {},
   "outputs": [
    {
     "name": "stdout",
     "output_type": "stream",
     "text": [
      "['Hello', 'Hello', 'Hello']\n"
     ]
    }
   ],
   "source": [
    "var = [\"Hello\"]\n",
    "print(var*3)"
   ]
  },
  {
   "cell_type": "code",
   "execution_count": 92,
   "id": "5e55f038-b905-4b83-a0bf-36fce7e0a300",
   "metadata": {},
   "outputs": [
    {
     "name": "stdout",
     "output_type": "stream",
     "text": [
      "['apple', 'banana', 'cherry', 'apple', 'banana', 'cherry', 'apple', 'banana', 'cherry', 'apple', 'banana', 'cherry']\n"
     ]
    }
   ],
   "source": [
    "fruits = [\"apple\",\"banana\",\"cherry\"]\n",
    "print(fruits*4)"
   ]
  },
  {
   "cell_type": "code",
   "execution_count": 96,
   "id": "2928d972-cfaf-4617-af04-25d3c1762337",
   "metadata": {},
   "outputs": [
    {
     "name": "stdout",
     "output_type": "stream",
     "text": [
      "['potato', 'tomato', 'potato', 'tomato', 'potato', 'tomato', 'potato', 'tomato', 'potato', 'tomato']\n"
     ]
    }
   ],
   "source": [
    "vegetables = [\"potato\",\"tomato\",]\n",
    "print(vegetables*5)"
   ]
  },
  {
   "cell_type": "markdown",
   "id": "07a928d6-5046-41c9-96da-0f1b5bda9132",
   "metadata": {},
   "source": [
    "\n",
    "### List methods"
   ]
  },
  {
   "cell_type": "markdown",
   "id": "37b6ee4f-f501-46d3-8cd1-58b26dd6e3a3",
   "metadata": {},
   "source": [
    "#### 1.Append()"
   ]
  },
  {
   "cell_type": "markdown",
   "id": "ba84a1a3-ed78-42e3-9d37-d821e8915b90",
   "metadata": {},
   "source": [
    "Adds an element to the end of the list."
   ]
  },
  {
   "cell_type": "code",
   "execution_count": 15,
   "id": "b70efee0-e9d1-4645-9eb4-c96475de50d7",
   "metadata": {},
   "outputs": [
    {
     "name": "stdout",
     "output_type": "stream",
     "text": [
      "['apple', 'banana', 'cherry', 'mango']\n"
     ]
    }
   ],
   "source": [
    "str = [\"apple\",\"banana\",\"cherry\"]\n",
    "str.append(\"mango\")\n",
    "print(str)"
   ]
  },
  {
   "cell_type": "markdown",
   "id": "1f627d53-3c5d-42ae-9f61-567b4078aeba",
   "metadata": {},
   "source": [
    "#### 2.Extend()"
   ]
  },
  {
   "cell_type": "markdown",
   "id": "efbad715-4183-478b-a57a-5b8dd28553f4",
   "metadata": {},
   "source": [
    "Appends elements from another iterable to the end."
   ]
  },
  {
   "cell_type": "code",
   "execution_count": 19,
   "id": "e282f772-7a67-4f84-9f6b-cbd64b2c2e7f",
   "metadata": {},
   "outputs": [
    {
     "name": "stdout",
     "output_type": "stream",
     "text": [
      "['pen', 'ball', 'cap', 'bottle', 'chips', 'box', 'book']\n"
     ]
    }
   ],
   "source": [
    "lst1 = [\"pen\",\"ball\",\"cap\"]\n",
    "lst2 = [\"bottle\",\"chips\",\"box\",\"book\"]\n",
    "lst1.extend(lst2)\n",
    "print(lst1)"
   ]
  },
  {
   "cell_type": "markdown",
   "id": "23ff03d1-d172-40e4-b8cc-98dd35f5d2de",
   "metadata": {},
   "source": [
    "#### 3.Insert()"
   ]
  },
  {
   "cell_type": "markdown",
   "id": "60774424-cc42-4c9c-9e91-52571cc6ee92",
   "metadata": {},
   "source": [
    "Inserts an element at a specified position."
   ]
  },
  {
   "cell_type": "code",
   "execution_count": 27,
   "id": "75a79ad6-cbc5-4033-b0ce-418f630e4194",
   "metadata": {},
   "outputs": [
    {
     "name": "stdout",
     "output_type": "stream",
     "text": [
      "['apple', 'pineapple', 'banana', 'cherry']\n"
     ]
    }
   ],
   "source": [
    "fruits = [\"apple\",\"banana\",\"cherry\"]\n",
    "fruits.insert(1,\"pineapple\")\n",
    "print(fruits)"
   ]
  },
  {
   "cell_type": "markdown",
   "id": "c030d116-3262-419f-b458-cf3055dd7804",
   "metadata": {},
   "source": [
    "#### 4.Remove()"
   ]
  },
  {
   "cell_type": "markdown",
   "id": "d5c0e2c1-100c-4e96-a33e-fe61ca5eb602",
   "metadata": {},
   "source": [
    "Removes the first occurance of a value."
   ]
  },
  {
   "cell_type": "code",
   "execution_count": 31,
   "id": "d25778ca-8e1a-4060-a35a-b3a25e20c946",
   "metadata": {},
   "outputs": [
    {
     "name": "stdout",
     "output_type": "stream",
     "text": [
      "[20, 30, 10, 40, 20, 40, 10, 30]\n"
     ]
    }
   ],
   "source": [
    "numbers = [10,20,30,10,40,20,40,10,30]\n",
    "numbers.remove(10)\n",
    "print(numbers)"
   ]
  },
  {
   "cell_type": "markdown",
   "id": "ea0bdd28-06dc-4642-be56-c38233471adb",
   "metadata": {},
   "source": [
    "#### 5.Pop()"
   ]
  },
  {
   "cell_type": "markdown",
   "id": "593292c2-63d6-4106-9cac-ff9696a0e8a2",
   "metadata": {},
   "source": [
    "Removes and returns an element as a specified index."
   ]
  },
  {
   "cell_type": "code",
   "execution_count": 35,
   "id": "7cc929a1-dd8b-4507-a89e-d0c2b59f4885",
   "metadata": {},
   "outputs": [
    {
     "name": "stdout",
     "output_type": "stream",
     "text": [
      "['book', 'pencil', 'cap', 'bottle']\n",
      "pen\n"
     ]
    }
   ],
   "source": [
    "items = [\"pen\",\"book\",\"pencil\",\"cap\",\"bottle\"]\n",
    "popped_element = items.pop(0)\n",
    "print(items)\n",
    "print(popped_element)"
   ]
  },
  {
   "cell_type": "markdown",
   "id": "6444aa1a-97f2-4c9f-b620-59ad5503266a",
   "metadata": {},
   "source": [
    "#### 6.Index()"
   ]
  },
  {
   "cell_type": "markdown",
   "id": "825fc51a-3105-4586-b898-1eab5d1daa4b",
   "metadata": {},
   "source": [
    "Returns the index of the first occurance of a value."
   ]
  },
  {
   "cell_type": "code",
   "execution_count": 39,
   "id": "62f1f855-7c3a-4674-bb44-2105950e51b9",
   "metadata": {},
   "outputs": [
    {
     "name": "stdout",
     "output_type": "stream",
     "text": [
      "2\n"
     ]
    }
   ],
   "source": [
    "lst = [\"apple\",\"banana\",\"cherry\",\"pineapple\",\"mango\"]\n",
    "index = lst.index(\"cherry\")\n",
    "print(index)"
   ]
  },
  {
   "cell_type": "markdown",
   "id": "4f3f6cb9-a6a8-4820-bb57-a5ef2ae81878",
   "metadata": {},
   "source": [
    "#### 7.Count()"
   ]
  },
  {
   "cell_type": "markdown",
   "id": "ebc46499-11bf-4f39-b465-a1b44c7d0dc8",
   "metadata": {},
   "source": [
    "Returns the number of occurances of a value."
   ]
  },
  {
   "cell_type": "code",
   "execution_count": 45,
   "id": "912bc7b8-8b4b-4092-8acb-0cf574222fc8",
   "metadata": {},
   "outputs": [
    {
     "name": "stdout",
     "output_type": "stream",
     "text": [
      "2\n"
     ]
    }
   ],
   "source": [
    "numbers = [1,2,5,8,0,3,4,2,2,9,8,6,4,2,9,5]\n",
    "count = numbers.count(4)\n",
    "print(count)"
   ]
  },
  {
   "cell_type": "markdown",
   "id": "f396bdd1-fb0a-4a66-9c69-2eced2b3b347",
   "metadata": {},
   "source": [
    "#### 8.Sort()"
   ]
  },
  {
   "cell_type": "markdown",
   "id": "94d6e80e-0487-49a4-9461-22972d5b6971",
   "metadata": {},
   "source": [
    "sorts the list in ascending order."
   ]
  },
  {
   "cell_type": "code",
   "execution_count": 53,
   "id": "48b60a91-b8a3-4279-8a50-a7f93e91fc0f",
   "metadata": {},
   "outputs": [
    {
     "name": "stdout",
     "output_type": "stream",
     "text": [
      "[-10, -8, -4, 1, 2, 3, 4, 5, 6, 7, 8, 9, 10]\n"
     ]
    }
   ],
   "source": [
    "numbers = [-10,7,3,9,4,2,10,5,8,-4,1,-8,6]\n",
    "numbers.sort()\n",
    "print(numbers)"
   ]
  },
  {
   "cell_type": "markdown",
   "id": "b6bcb7b7-4f4e-4853-b395-6f26a632dc7d",
   "metadata": {},
   "source": [
    "#### 9.Reverse()"
   ]
  },
  {
   "cell_type": "markdown",
   "id": "7ef448e7-3a32-4458-ae6a-bb49cc85be85",
   "metadata": {},
   "source": [
    "Reverses the order of elements in the list."
   ]
  },
  {
   "cell_type": "code",
   "execution_count": 57,
   "id": "9f3b8ab7-ce19-497b-b2b0-b0693154e879",
   "metadata": {},
   "outputs": [
    {
     "name": "stdout",
     "output_type": "stream",
     "text": [
      "['cherry', 'banana', 'apple']\n"
     ]
    }
   ],
   "source": [
    "list = [\"apple\",\"banana\",\"cherry\"]\n",
    "list.reverse()\n",
    "print(list)"
   ]
  },
  {
   "cell_type": "code",
   "execution_count": null,
   "id": "4ebb9042-4431-4578-88a5-561f00e5512f",
   "metadata": {},
   "outputs": [],
   "source": []
  }
 ],
 "metadata": {
  "kernelspec": {
   "display_name": "Python 3 (ipykernel)",
   "language": "python",
   "name": "python3"
  },
  "language_info": {
   "codemirror_mode": {
    "name": "ipython",
    "version": 3
   },
   "file_extension": ".py",
   "mimetype": "text/x-python",
   "name": "python",
   "nbconvert_exporter": "python",
   "pygments_lexer": "ipython3",
   "version": "3.12.4"
  }
 },
 "nbformat": 4,
 "nbformat_minor": 5
}
