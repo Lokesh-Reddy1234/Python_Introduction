{
 "cells": [
  {
   "cell_type": "markdown",
   "id": "b2afccb4-1050-4bad-8d55-c71eddc63d56",
   "metadata": {},
   "source": [
    "### What is List"
   ]
  },
  {
   "cell_type": "markdown",
   "id": "1d4aed63-c702-4979-aa18-75ffc771cc67",
   "metadata": {},
   "source": [
    "Lists are used to store multiple items in a single variable.\r\n",
    "\r\n",
    "Lists are one of 4 built-in data types in Python used to store collections of data, the other 3 are Tuple, Set, and Dictionary, all with different qualities and usage."
   ]
  },
  {
   "cell_type": "markdown",
   "id": "db6da728-dceb-444e-99bb-0b6f4e03a9d9",
   "metadata": {},
   "source": [
    "Python Lists are just like dynamically sized arrays, declared in other languages (vector in C++ and ArrayList in Java). In simple language, a list is a collection of things, enclosed in [ ] and separated by commas."
   ]
  },
  {
   "cell_type": "code",
   "execution_count": 7,
   "id": "88c10e67-63ee-4b32-ba1d-9ae769442475",
   "metadata": {},
   "outputs": [
    {
     "name": "stdout",
     "output_type": "stream",
     "text": [
      "['apple', 'banana', 'mango']\n"
     ]
    }
   ],
   "source": [
    "mylist = [\"apple\",\"banana\",\"mango\"]\n",
    "print(mylist)"
   ]
  },
  {
   "cell_type": "markdown",
   "id": "32e19357-0be6-406f-8ab4-53e3a67a4055",
   "metadata": {},
   "source": [
    "#### Examples of List"
   ]
  },
  {
   "cell_type": "code",
   "execution_count": 22,
   "id": "800b6176-9ce3-41d9-b058-5a8d1f5650be",
   "metadata": {},
   "outputs": [
    {
     "name": "stdout",
     "output_type": "stream",
     "text": [
      "[1, 2, 3, 4, 5]\n",
      "['apple', 'banana', 'mango']\n",
      "[3.4, 9.6, 8.4]\n",
      "[True, False, True, False]\n",
      "[10, 20, 30, 40, 50]\n"
     ]
    }
   ],
   "source": [
    "list1 = [1,2,3,4,5]\n",
    "list2 = [\"apple\",\"banana\",\"mango\"]\n",
    "list3 = [3.4,9.6,8.4]\n",
    "list4 = [True,False,True,False]\n",
    "list5 = [10,20,30,40,50]\n",
    "print(list1)\n",
    "print(list2)\n",
    "print(list3)\n",
    "print(list4)\n",
    "print(list5)\n"
   ]
  },
  {
   "cell_type": "markdown",
   "id": "06a3cd56-f358-4a58-b637-ff58d92fe701",
   "metadata": {},
   "source": [
    "### Indexing"
   ]
  },
  {
   "cell_type": "markdown",
   "id": "0753f57b-acfe-48b7-9e77-4bf3825a5614",
   "metadata": {},
   "source": [
    "You access a specific element in a list by its index(position).\n",
    "\n",
    "Index starts at 0: The first item is at index 0,the second at index 1,and so on."
   ]
  },
  {
   "cell_type": "markdown",
   "id": "5e8ba9f2-2b81-4a6f-bda0-4a13974d6b29",
   "metadata": {},
   "source": [
    "#### Positive Index"
   ]
  },
  {
   "cell_type": "markdown",
   "id": "b1140ec3-53bd-49f2-8891-6782175f78c6",
   "metadata": {},
   "source": [
    "In Python, positive zero-based indexing is the fundamental method for accessing iterable items.\n",
    "\n",
    "As a result, an index starting at 0 may refer to any element in the iterable.\n",
    "\n",
    "The first element in zero-based indexing has an index of 0, the second has an index of 1, and so on."
   ]
  },
  {
   "cell_type": "markdown",
   "id": "faf58e69-bc48-4595-aa19-ddad709b03a7",
   "metadata": {},
   "source": [
    "#### Negative Index"
   ]
  },
  {
   "cell_type": "markdown",
   "id": "ccc69e2e-93fb-4fce-affd-a492148a4430",
   "metadata": {},
   "source": [
    " The last element can be accessed using the index -1, the second to last element using the index -2, and so on.\n",
    " \n",
    " Negative indexes can be useful for accessing elements from the end of a data structure without having to know the exact length of the data structure."
   ]
  },
  {
   "cell_type": "markdown",
   "id": "52228e68-1469-4b69-97f9-0a512f798da0",
   "metadata": {},
   "source": [
    "#### Examples of Indexing"
   ]
  },
  {
   "cell_type": "code",
   "execution_count": 38,
   "id": "e2ea1ae6-28f5-4e98-b030-746ff5e6bfb4",
   "metadata": {},
   "outputs": [
    {
     "name": "stdout",
     "output_type": "stream",
     "text": [
      "1\n",
      "2\n",
      "3\n",
      "4\n",
      "5\n"
     ]
    }
   ],
   "source": [
    "mylist = [1,2,3,4,5]\n",
    "print(mylist[0])\n",
    "print(mylist[1])\n",
    "print(mylist[2])\n",
    "print(mylist[3])\n",
    "print(mylist[4])"
   ]
  },
  {
   "cell_type": "code",
   "execution_count": 36,
   "id": "d8fb0df2-efae-407f-9513-b74bba4d9a5d",
   "metadata": {},
   "outputs": [
    {
     "name": "stdout",
     "output_type": "stream",
     "text": [
      "5\n",
      "4\n",
      "3\n",
      "2\n",
      "1\n"
     ]
    }
   ],
   "source": [
    "mylist = [1,2,3,4,5]\n",
    "print(mylist[-1])\n",
    "print(mylist[-2])\n",
    "print(mylist[-3])\n",
    "print(mylist[-4])\n",
    "print(mylist[-5])"
   ]
  },
  {
   "cell_type": "markdown",
   "id": "86188e81-8416-446d-93f1-215adf47ec8c",
   "metadata": {},
   "source": [
    "### Slicing"
   ]
  },
  {
   "cell_type": "markdown",
   "id": "a838f76f-9073-41ba-b0a0-09e1a6c30c00",
   "metadata": {},
   "source": [
    "You can return a range of characters by using the slice syntax.\n",
    "\n",
    "Specify the start index and the end index, separated by a colon, to return a part of the string."
   ]
  },
  {
   "cell_type": "markdown",
   "id": "3c80c2da-dc7f-4845-8a06-14bf2cee2ecb",
   "metadata": {},
   "source": [
    "#### Examples of slicing"
   ]
  },
  {
   "cell_type": "code",
   "execution_count": 80,
   "id": "7fdb4290-37c5-4f9b-8e3f-430b0d1a6894",
   "metadata": {},
   "outputs": [
    {
     "name": "stdout",
     "output_type": "stream",
     "text": [
      "[1, 2, 3]\n",
      "[3, 4]\n",
      "[6, 7, 8, 9, 10]\n",
      "[1, 2, 3, 4, 5, 6, 7]\n",
      "[1, 2, 3, 4, 5, 6, 7, 8, 9, 10]\n"
     ]
    }
   ],
   "source": [
    "mylist = [1,2,3,4,5,6,7,8,9,10]\n",
    "print(mylist[0:3])\n",
    "print(mylist[2:4])\n",
    "print(mylist[5:])\n",
    "print(mylist[:7])\n",
    "print(mylist[:])"
   ]
  },
  {
   "cell_type": "markdown",
   "id": "2430b358-3eca-4c84-b9aa-3081b3ab6417",
   "metadata": {},
   "source": [
    "### Creating a list 1 to 20 numbers using 10 positive and 10 negative elements"
   ]
  },
  {
   "cell_type": "code",
   "execution_count": 66,
   "id": "ae66dc49-ed3a-4d3e-b377-dde358161c18",
   "metadata": {},
   "outputs": [
    {
     "name": "stdout",
     "output_type": "stream",
     "text": [
      "1\n",
      "2\n",
      "3\n",
      "4\n",
      "5\n",
      "6\n",
      "7\n",
      "8\n",
      "9\n",
      "10\n",
      "20\n",
      "19\n",
      "18\n",
      "17\n",
      "16\n",
      "15\n",
      "14\n",
      "13\n",
      "12\n",
      "11\n"
     ]
    }
   ],
   "source": [
    "numbers = [1,2,3,4,5,6,7,8,9,10,11,12,13,14,15,16,17,18,19,20]\n",
    "print(numbers[0])\n",
    "print(numbers[1])\n",
    "print(numbers[2])\n",
    "print(numbers[3])\n",
    "print(numbers[4])\n",
    "print(numbers[5])\n",
    "print(numbers[6])\n",
    "print(numbers[7])\n",
    "print(numbers[8])\n",
    "print(numbers[9])\n",
    "print(numbers[-1])\n",
    "print(numbers[-2])\n",
    "print(numbers[-3])\n",
    "print(numbers[-4])\n",
    "print(numbers[-5])\n",
    "print(numbers[-6])\n",
    "print(numbers[-7])\n",
    "print(numbers[-8])\n",
    "print(numbers[-9])\n",
    "print(numbers[-10])"
   ]
  },
  {
   "cell_type": "markdown",
   "id": "3b2196aa-2bfe-4f28-bed0-6200420cffa7",
   "metadata": {},
   "source": [
    "### Concatenation"
   ]
  },
  {
   "cell_type": "markdown",
   "id": "9fd17bc9-818d-46e3-a191-a885a2543c98",
   "metadata": {},
   "source": [
    "Concatenation in Python refers to combining sequences such as strings, lists, or tuples."
   ]
  },
  {
   "cell_type": "code",
   "execution_count": 70,
   "id": "c073e9ea-e04d-4d27-898c-7795f7888d05",
   "metadata": {},
   "outputs": [
    {
     "name": "stdout",
     "output_type": "stream",
     "text": [
      "[1, 2, 3, 4, 5, 6]\n"
     ]
    }
   ],
   "source": [
    "a = [1,2,3]\n",
    "b = [4,5,6]\n",
    "c = a+b\n",
    "print(c)"
   ]
  },
  {
   "cell_type": "code",
   "execution_count": 72,
   "id": "37168d39-e8c2-43ef-be09-ddeaf315e611",
   "metadata": {},
   "outputs": [
    {
     "name": "stdout",
     "output_type": "stream",
     "text": [
      "[1.2, 3.4, 4.5, 5.6, 6.8, 7.9]\n"
     ]
    }
   ],
   "source": [
    "list1 = [1.2,3.4,4.5]\n",
    "list2 = [5.6,6.8,7.9]\n",
    "list3 = list1 + list2\n",
    "print(list3)"
   ]
  },
  {
   "cell_type": "code",
   "execution_count": 78,
   "id": "24ce648e-97f1-4636-aa3a-f0f1c90f6c56",
   "metadata": {},
   "outputs": [
    {
     "name": "stdout",
     "output_type": "stream",
     "text": [
      "['apple', 'banana', 'cherry', 'tomato', 'brinjal', 'potato']\n"
     ]
    }
   ],
   "source": [
    "fruits = [\"apple\",\"banana\",\"cherry\"]\n",
    "vegetables = [\"tomato\",\"brinjal\",\"potato\"]\n",
    "mixed = fruits + vegetables\n",
    "print(mixed)"
   ]
  },
  {
   "cell_type": "code",
   "execution_count": 84,
   "id": "0b15ce05-f7ee-4a72-a6fe-9e7add082004",
   "metadata": {},
   "outputs": [
    {
     "name": "stdout",
     "output_type": "stream",
     "text": [
      "['Hello', 'world']\n"
     ]
    }
   ],
   "source": [
    "word1 = [\"Hello\"]\n",
    "word2 = [\"world\"]\n",
    "result = word1 + word2\n",
    "print(result)"
   ]
  },
  {
   "cell_type": "markdown",
   "id": "7c595f26-5b08-43cd-b062-99ad2631549f",
   "metadata": {},
   "source": [
    "### Repetition"
   ]
  },
  {
   "cell_type": "markdown",
   "id": "2f76cad5-9bf1-41b8-9fc9-79921d7abc89",
   "metadata": {},
   "source": [
    "Repetition in Python allows you to repeat sequences such as strings, lists, or tuples multiple times."
   ]
  },
  {
   "cell_type": "code",
   "execution_count": 90,
   "id": "35024ded-4504-411c-8e0c-769c0dbdddd9",
   "metadata": {},
   "outputs": [
    {
     "name": "stdout",
     "output_type": "stream",
     "text": [
      "[1, 2, 3, 4, 5, 1, 2, 3, 4, 5]\n"
     ]
    }
   ],
   "source": [
    "a = [1,2,3,4,5]\n",
    "print(a*2)"
   ]
  },
  {
   "cell_type": "code",
   "execution_count": 88,
   "id": "38f2b217-be7a-47a5-80d7-40469bf978f8",
   "metadata": {},
   "outputs": [
    {
     "name": "stdout",
     "output_type": "stream",
     "text": [
      "['Hello', 'Hello', 'Hello']\n"
     ]
    }
   ],
   "source": [
    "var = [\"Hello\"]\n",
    "print(var*3)"
   ]
  },
  {
   "cell_type": "code",
   "execution_count": 92,
   "id": "5e55f038-b905-4b83-a0bf-36fce7e0a300",
   "metadata": {},
   "outputs": [
    {
     "name": "stdout",
     "output_type": "stream",
     "text": [
      "['apple', 'banana', 'cherry', 'apple', 'banana', 'cherry', 'apple', 'banana', 'cherry', 'apple', 'banana', 'cherry']\n"
     ]
    }
   ],
   "source": [
    "fruits = [\"apple\",\"banana\",\"cherry\"]\n",
    "print(fruits*4)"
   ]
  },
  {
   "cell_type": "code",
   "execution_count": 96,
   "id": "2928d972-cfaf-4617-af04-25d3c1762337",
   "metadata": {},
   "outputs": [
    {
     "name": "stdout",
     "output_type": "stream",
     "text": [
      "['potato', 'tomato', 'potato', 'tomato', 'potato', 'tomato', 'potato', 'tomato', 'potato', 'tomato']\n"
     ]
    }
   ],
   "source": [
    "vegetables = [\"potato\",\"tomato\",]\n",
    "print(vegetables*5)"
   ]
  },
  {
   "cell_type": "code",
   "execution_count": null,
   "id": "b1dbfcdc-a3fe-442b-936b-6e9360a9a450",
   "metadata": {},
   "outputs": [],
   "source": []
  }
 ],
 "metadata": {
  "kernelspec": {
   "display_name": "Python 3 (ipykernel)",
   "language": "python",
   "name": "python3"
  },
  "language_info": {
   "codemirror_mode": {
    "name": "ipython",
    "version": 3
   },
   "file_extension": ".py",
   "mimetype": "text/x-python",
   "name": "python",
   "nbconvert_exporter": "python",
   "pygments_lexer": "ipython3",
   "version": "3.12.4"
  }
 },
 "nbformat": 4,
 "nbformat_minor": 5
}
