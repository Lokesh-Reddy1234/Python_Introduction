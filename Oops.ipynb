{
 "cells": [
  {
   "cell_type": "markdown",
   "id": "58655ee0-9b97-4110-a7d6-ae4a302cec19",
   "metadata": {},
   "source": [
    "### Inheritance():"
   ]
  },
  {
   "cell_type": "code",
   "execution_count": 61,
   "id": "fcf743b6-63e1-42e9-a80c-68809e335e6d",
   "metadata": {},
   "outputs": [],
   "source": [
    "class student():\n",
    "    def name(self):\n",
    "        print(\"My name is lokesh\")\n",
    "\n",
    "class id(student):\n",
    "    def id(self):\n",
    "        print(\"My id is 101\")"
   ]
  },
  {
   "cell_type": "code",
   "execution_count": 63,
   "id": "49902932-2cf7-4452-ade1-7853aadb25cc",
   "metadata": {},
   "outputs": [
    {
     "name": "stdout",
     "output_type": "stream",
     "text": [
      "My name is lokesh\n",
      "My id is 101\n"
     ]
    }
   ],
   "source": [
    "obj = id()\n",
    "\n",
    "obj.name()\n",
    "obj.id()"
   ]
  },
  {
   "cell_type": "code",
   "execution_count": 67,
   "id": "99216993-5567-44d8-88f2-8a8ed505f48c",
   "metadata": {},
   "outputs": [],
   "source": [
    "class student1():\n",
    "    def name(self):\n",
    "        print(\"My name is pranay\")\n",
    "\n",
    "class id1(student1):\n",
    "    def id(self):\n",
    "        print(\"My id is 102\")\n",
    "\n",
    "class age(student1):\n",
    "    def age(self):\n",
    "        print(\"My age is 23\")"
   ]
  },
  {
   "cell_type": "code",
   "execution_count": 73,
   "id": "4ccd0bf5-abea-4f54-8b43-86d3a7b1f522",
   "metadata": {},
   "outputs": [
    {
     "name": "stdout",
     "output_type": "stream",
     "text": [
      "My name is pranay\n",
      "My id is 102\n"
     ]
    }
   ],
   "source": [
    "obj1 = id1()\n",
    "\n",
    "obj1.name()\n",
    "obj1.id()"
   ]
  },
  {
   "cell_type": "code",
   "execution_count": 75,
   "id": "e508eeb3-06a8-4113-ae25-314926b6d806",
   "metadata": {},
   "outputs": [
    {
     "name": "stdout",
     "output_type": "stream",
     "text": [
      "My name is pranay\n",
      "My age is 23\n"
     ]
    }
   ],
   "source": [
    "obj2 = age()\n",
    "\n",
    "obj2.name()\n",
    "obj2.age()"
   ]
  },
  {
   "cell_type": "code",
   "execution_count": 1,
   "id": "b9e53fa2-bfc4-47f1-be4f-7de24fe81ba8",
   "metadata": {},
   "outputs": [],
   "source": [
    "class student2():\n",
    "    def name(self):\n",
    "        print(\"My name is pranay\")\n",
    "\n",
    "class student3():\n",
    "    def name1(self):\n",
    "        print(\"My name is kittu\")\n",
    "\n",
    "class age(student2,student3):\n",
    "    def age(self):\n",
    "        print(\"My age is 23\")"
   ]
  },
  {
   "cell_type": "code",
   "execution_count": 3,
   "id": "e1fe8b68-b521-4ab7-8c82-3ccd2afde604",
   "metadata": {},
   "outputs": [
    {
     "name": "stdout",
     "output_type": "stream",
     "text": [
      "My name is pranay\n",
      "My age is 23\n"
     ]
    }
   ],
   "source": [
    "obj1 = age()\n",
    "\n",
    "obj1.name()\n",
    "obj1.age()"
   ]
  },
  {
   "cell_type": "code",
   "execution_count": 5,
   "id": "18cb647f-1eb1-4b06-abb2-ced75c6b88d0",
   "metadata": {},
   "outputs": [
    {
     "name": "stdout",
     "output_type": "stream",
     "text": [
      "My name is kittu\n",
      "My age is 23\n"
     ]
    }
   ],
   "source": [
    "obj2 = age()\n",
    "\n",
    "obj2.name1()\n",
    "obj2.age()"
   ]
  },
  {
   "cell_type": "code",
   "execution_count": 25,
   "id": "c1ad7fd9-09eb-4ff5-9568-ddfb6c56ae5f",
   "metadata": {},
   "outputs": [],
   "source": [
    "class Men():\n",
    "    def name(self):\n",
    "        print(\"My name is jack\")\n",
    "\n",
    "class Women():\n",
    "    def name1(self):\n",
    "        print(\"My name is priya\")\n",
    "\n",
    "class child1(Men,Women):\n",
    "    def age(self):\n",
    "        print(\"child1 age is 2\")\n",
    "\n",
    "class child2(Men,Women):\n",
    "    def age1(self):\n",
    "        print(\"child2 age is 4\")"
   ]
  },
  {
   "cell_type": "code",
   "execution_count": 27,
   "id": "690774b8-4633-4998-9bd2-4eedbd024cbe",
   "metadata": {},
   "outputs": [
    {
     "name": "stdout",
     "output_type": "stream",
     "text": [
      "My name is jack\n",
      "My name is priya\n",
      "child1 age is 2\n"
     ]
    }
   ],
   "source": [
    "obj1 = child1()\n",
    "\n",
    "obj1.name()\n",
    "obj1.name1()\n",
    "obj1.age()"
   ]
  },
  {
   "cell_type": "code",
   "execution_count": 29,
   "id": "beff13c0-49cc-4095-87b8-afbeb631c79c",
   "metadata": {},
   "outputs": [
    {
     "name": "stdout",
     "output_type": "stream",
     "text": [
      "My name is jack\n",
      "My name is priya\n",
      "child2 age is 4\n"
     ]
    }
   ],
   "source": [
    "obj2 = child2()\n",
    "\n",
    "obj2.name()\n",
    "obj2.name1()\n",
    "obj2.age1()"
   ]
  },
  {
   "cell_type": "markdown",
   "id": "036272ab-365f-4380-9f62-4f69c810d9ca",
   "metadata": {},
   "source": [
    "### Encapsulation():"
   ]
  },
  {
   "cell_type": "code",
   "execution_count": 49,
   "id": "cef92f01-e6b2-49f2-b1ab-dc4096fe662e",
   "metadata": {},
   "outputs": [],
   "source": [
    "class atm():\n",
    "    def __init__(self,accountno,pin):\n",
    "        self.__accountno = accountno\n",
    "        self._pin = pin\n",
    "        print(self.__accountno)\n",
    "\n",
    "    def output(self):\n",
    "        print(self._pin)"
   ]
  },
  {
   "cell_type": "code",
   "execution_count": 51,
   "id": "f67d55ec-2778-4475-9161-b678a761c9cb",
   "metadata": {},
   "outputs": [
    {
     "name": "stdout",
     "output_type": "stream",
     "text": [
      "1122334455\n",
      "1122\n",
      "None\n"
     ]
    }
   ],
   "source": [
    "obj = atm(1122334455,1122)\n",
    "\n",
    "print(obj.output())"
   ]
  },
  {
   "cell_type": "markdown",
   "id": "1516078f-2db0-4d50-a5d8-9358760c1f61",
   "metadata": {},
   "source": [
    "### Polymorphism():"
   ]
  },
  {
   "cell_type": "code",
   "execution_count": 110,
   "id": "f1233838-07e6-44b3-9b58-1a0d9b56f2ed",
   "metadata": {},
   "outputs": [],
   "source": [
    "class sum():\n",
    "    def add(self,a,b):\n",
    "        return a+b\n",
    "\n",
    "    def sub(self,a,b):\n",
    "        return a-b\n",
    "\n",
    "    def mul(self,a,b):\n",
    "        return a*b\n"
   ]
  },
  {
   "cell_type": "code",
   "execution_count": 146,
   "id": "f472b611-ee1f-4ec7-a8ce-1ae4bb3a7d88",
   "metadata": {},
   "outputs": [
    {
     "name": "stdout",
     "output_type": "stream",
     "text": [
      "6\n",
      "jk\n",
      "7.0\n",
      "1+3j2+4j\n"
     ]
    }
   ],
   "source": [
    "obj1 = sum()\n",
    "\n",
    "print(obj1.add(2,4))\n",
    "print(obj1.add(\"j\",\"k\"))\n",
    "print(obj1.add(2.1,4.9))\n",
    "print(obj1.add(\"1+3j\",\"2+4j\"))"
   ]
  },
  {
   "cell_type": "code",
   "execution_count": 148,
   "id": "16a6cdbe-3435-49ca-8cc7-684721a457f4",
   "metadata": {},
   "outputs": [
    {
     "name": "stdout",
     "output_type": "stream",
     "text": [
      "2\n",
      "3.799999999999999\n"
     ]
    }
   ],
   "source": [
    "obj2 = sum()\n",
    "\n",
    "print(obj2.sub(6,4))\n",
    "print(obj2.sub(8.7,4.9))"
   ]
  },
  {
   "cell_type": "code",
   "execution_count": 154,
   "id": "bed6abed-7d3f-438c-80b5-3d7108690376",
   "metadata": {},
   "outputs": [
    {
     "name": "stdout",
     "output_type": "stream",
     "text": [
      "6\n",
      "13.68\n"
     ]
    }
   ],
   "source": [
    "obj3 = sum()\n",
    "\n",
    "print(obj3.mul(2,3))\n",
    "print(obj3.mul(2.4,5.7))"
   ]
  },
  {
   "cell_type": "code",
   "execution_count": null,
   "id": "08eceec4-9df0-48ba-b322-f4222c686d40",
   "metadata": {},
   "outputs": [],
   "source": []
  }
 ],
 "metadata": {
  "kernelspec": {
   "display_name": "Python 3 (ipykernel)",
   "language": "python",
   "name": "python3"
  },
  "language_info": {
   "codemirror_mode": {
    "name": "ipython",
    "version": 3
   },
   "file_extension": ".py",
   "mimetype": "text/x-python",
   "name": "python",
   "nbconvert_exporter": "python",
   "pygments_lexer": "ipython3",
   "version": "3.12.4"
  }
 },
 "nbformat": 4,
 "nbformat_minor": 5
}
