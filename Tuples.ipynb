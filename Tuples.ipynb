{
 "cells": [
  {
   "cell_type": "markdown",
   "id": "6b15f2c1-15d0-45d9-bc7b-bc76805c92b0",
   "metadata": {},
   "source": [
    "### Tuples"
   ]
  },
  {
   "cell_type": "markdown",
   "id": "2c0984d7-0fd5-4139-94bd-4bf208c4a336",
   "metadata": {},
   "source": [
    "Python Tuple is a collection of objects separated by commas. In some ways, a tuple is similar to a Python list in terms of indexing, nested objects, and repetition but the main difference between both is Python tuple is immutable, unlike the Python list which is mutable."
   ]
  },
  {
   "cell_type": "markdown",
   "id": "7fe9cd11-ecfa-48d0-ae7f-155a2fc1fe21",
   "metadata": {},
   "source": [
    "#### What is Immutable in Tuples?\n",
    "Tuples in Python are similar to Python lists but not entirely. Tuples are immutable and ordered and allow duplicate values. Some Characteristics of Tuples in Python.\n",
    "\n",
    "We can find items in a tuple since finding any item does not make changes in the tuple.\n",
    "\n",
    "One cannot add items to a tuple once it is created. \n",
    "\n",
    "Tuples cannot be appended or extended.\n",
    "\n",
    "We cannot remove items from a tuple once it is created."
   ]
  },
  {
   "cell_type": "code",
   "execution_count": 8,
   "id": "5c42e4a6-3171-40ff-853a-fa404b5251c3",
   "metadata": {},
   "outputs": [
    {
     "name": "stdout",
     "output_type": "stream",
     "text": [
      "<class 'tuple'>\n"
     ]
    }
   ],
   "source": [
    "fruits = (\"apple\",\"banana\",\"cherry\")\n",
    "print(type(fruits))"
   ]
  },
  {
   "cell_type": "code",
   "execution_count": 10,
   "id": "ef2cd6a9-25f4-4be2-8359-82077d90cdd0",
   "metadata": {},
   "outputs": [
    {
     "name": "stdout",
     "output_type": "stream",
     "text": [
      "(1, 'apple', 2.8, True)\n"
     ]
    }
   ],
   "source": [
    "mixed_tuple = (1,\"apple\",2.8,True)\n",
    "print(mixed_tuple)"
   ]
  },
  {
   "cell_type": "markdown",
   "id": "35b20134-f4d0-417c-b518-764d2f1caed9",
   "metadata": {},
   "source": [
    "#### Accessing of tuples"
   ]
  },
  {
   "cell_type": "markdown",
   "id": "03217291-c2ad-4fdd-9ba5-b40164b27a66",
   "metadata": {},
   "source": [
    "Tuples support indexing and slicing just like lists."
   ]
  },
  {
   "cell_type": "code",
   "execution_count": 14,
   "id": "479f09f9-32a4-4d2c-8d3f-235fce0e1e20",
   "metadata": {},
   "outputs": [
    {
     "name": "stdout",
     "output_type": "stream",
     "text": [
      "book\n",
      "('pen', 'book', 'box')\n"
     ]
    }
   ],
   "source": [
    "items = (\"pen\",\"book\",\"box\")\n",
    "print(items[1])\n",
    "print(items[0:5])"
   ]
  },
  {
   "cell_type": "markdown",
   "id": "df8a0578-dc49-464a-81aa-c39816dc98f7",
   "metadata": {},
   "source": [
    "#### Immutability"
   ]
  },
  {
   "cell_type": "markdown",
   "id": "27653966-e5e9-41b5-a576-82d90ea78450",
   "metadata": {},
   "source": [
    "Once a tuple is created,you cannot change its elements or add/remove elements."
   ]
  },
  {
   "cell_type": "code",
   "execution_count": 18,
   "id": "3314fd08-c741-4def-9496-3ee7d8e69c62",
   "metadata": {},
   "outputs": [
    {
     "ename": "TypeError",
     "evalue": "'tuple' object does not support item assignment",
     "output_type": "error",
     "traceback": [
      "\u001b[1;31m---------------------------------------------------------------------------\u001b[0m",
      "\u001b[1;31mTypeError\u001b[0m                                 Traceback (most recent call last)",
      "Cell \u001b[1;32mIn[18], line 2\u001b[0m\n\u001b[0;32m      1\u001b[0m fruits \u001b[38;5;241m=\u001b[39m (\u001b[38;5;124m\"\u001b[39m\u001b[38;5;124mapple\u001b[39m\u001b[38;5;124m\"\u001b[39m,\u001b[38;5;124m\"\u001b[39m\u001b[38;5;124mbanana\u001b[39m\u001b[38;5;124m\"\u001b[39m,\u001b[38;5;124m\"\u001b[39m\u001b[38;5;124mcherry\u001b[39m\u001b[38;5;124m\"\u001b[39m)\n\u001b[1;32m----> 2\u001b[0m fruits[\u001b[38;5;241m1\u001b[39m] \u001b[38;5;241m=\u001b[39m \u001b[38;5;124m\"\u001b[39m\u001b[38;5;124mpineapple\u001b[39m\u001b[38;5;124m\"\u001b[39m\n\u001b[0;32m      3\u001b[0m \u001b[38;5;28mprint\u001b[39m(fruits)\n",
      "\u001b[1;31mTypeError\u001b[0m: 'tuple' object does not support item assignment"
     ]
    }
   ],
   "source": [
    "fruits = (\"apple\",\"banana\",\"cherry\")\n",
    "fruits[1] = \"pineapple\"\n",
    "print(fruits)"
   ]
  },
  {
   "cell_type": "markdown",
   "id": "dd28ae0a-55fd-46d2-b843-9ca1f7533456",
   "metadata": {},
   "source": [
    "### Tuple Operations"
   ]
  },
  {
   "cell_type": "markdown",
   "id": "93bdcc2b-bb9a-4a86-9e5c-adec43f4e690",
   "metadata": {},
   "source": [
    "#### 1.Concatenation"
   ]
  },
  {
   "cell_type": "markdown",
   "id": "92983270-a361-4279-ab49-cd77296c0dd8",
   "metadata": {},
   "source": [
    "Combining two tuples."
   ]
  },
  {
   "cell_type": "code",
   "execution_count": 25,
   "id": "2e8cce29-cce9-4c9f-a07e-ca981a86fd81",
   "metadata": {},
   "outputs": [
    {
     "name": "stdout",
     "output_type": "stream",
     "text": [
      "(1, 2, 3, 'apple', 'banana', 'cherry')\n"
     ]
    }
   ],
   "source": [
    "tuple1 = (1,2,3)\n",
    "tuple2 = (\"apple\",\"banana\",\"cherry\")\n",
    "result = tuple1+tuple2\n",
    "print(result)"
   ]
  },
  {
   "cell_type": "markdown",
   "id": "134ed6b9-8f20-41b7-b821-0d411fb12800",
   "metadata": {},
   "source": [
    "#### 2.Repetition"
   ]
  },
  {
   "cell_type": "markdown",
   "id": "afe4bed3-e2fc-4111-b9d4-aac887826c3d",
   "metadata": {},
   "source": [
    "Repeating a tuple."
   ]
  },
  {
   "cell_type": "code",
   "execution_count": 31,
   "id": "5e139b0e-4804-4980-bd3d-72f0ea41be30",
   "metadata": {},
   "outputs": [
    {
     "name": "stdout",
     "output_type": "stream",
     "text": [
      "(1, 2, 3, 1, 2, 3, 1, 2, 3, 1, 2, 3, 1, 2, 3)\n"
     ]
    }
   ],
   "source": [
    "tuple = (1,2,3,)\n",
    "result = tuple*5\n",
    "print(result)"
   ]
  }
 ],
 "metadata": {
  "kernelspec": {
   "display_name": "Python 3 (ipykernel)",
   "language": "python",
   "name": "python3"
  },
  "language_info": {
   "codemirror_mode": {
    "name": "ipython",
    "version": 3
   },
   "file_extension": ".py",
   "mimetype": "text/x-python",
   "name": "python",
   "nbconvert_exporter": "python",
   "pygments_lexer": "ipython3",
   "version": "3.12.4"
  }
 },
 "nbformat": 4,
 "nbformat_minor": 5
}
