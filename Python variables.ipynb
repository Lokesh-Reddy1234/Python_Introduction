{
 "cells": [
  {
   "cell_type": "markdown",
   "id": "90fecf08-f768-4824-a76c-8f7b19deedab",
   "metadata": {},
   "source": [
    "### Explian about python variables?"
   ]
  },
  {
   "cell_type": "markdown",
   "id": "7dd73697-aa25-4a30-b07a-07187b67f796",
   "metadata": {},
   "source": [
    "Python Variable is containers that store values. Python is not “statically typed”. We do not need to declare variables before using them or declare their type. A variable is created the moment we first assign a value to it. A Python variable is a name given to a memory location. It is the basic unit of storage in a program."
   ]
  },
  {
   "cell_type": "markdown",
   "id": "ffefff12-88df-4092-87c3-54099133b597",
   "metadata": {},
   "source": [
    "Python variables are a core concept in Python programming. They allow you to save data that may be accessed and modified throughout your code. This gives you a versatile and effective approach to managing and working with data, making your programs more dynamic and powerful."
   ]
  },
  {
   "cell_type": "markdown",
   "id": "bc4a5a4d-d792-4105-99b3-2f599d25c93a",
   "metadata": {},
   "source": [
    "### Rules of python variables?"
   ]
  },
  {
   "cell_type": "markdown",
   "id": "479d4eb3-8695-4a21-8867-aaa26dc73342",
   "metadata": {},
   "source": [
    "A Python variable name must start with a letter or the underscore character.<br>\n",
    "A Python variable name cannot start with a number.<br>\n",
    "A Python variable name can only contain alpha-numeric characters and underscores (A-z, 0-9, and _ ).<br>\n",
    "Variable in Python names are case-sensitive (name, Name, and NAME are three different variables).<br>\n",
    "The reserved words(keywords) in Python cannot be used to name the variable in Python."
   ]
  },
  {
   "cell_type": "markdown",
   "id": "505d9e68-e075-4618-81a6-7f9dc3dbae66",
   "metadata": {},
   "source": [
    "### Examples of valid variables"
   ]
  },
  {
   "cell_type": "code",
   "execution_count": 11,
   "id": "7960af6e-0438-46d5-9bc3-e1f2d21a53a4",
   "metadata": {},
   "outputs": [
    {
     "name": "stdout",
     "output_type": "stream",
     "text": [
      "10\n"
     ]
    }
   ],
   "source": [
    "a = 10\n",
    "print(a)"
   ]
  },
  {
   "cell_type": "code",
   "execution_count": 21,
   "id": "185cb7ae-bf6b-4452-82c1-ae4352dd3d67",
   "metadata": {},
   "outputs": [
    {
     "name": "stdout",
     "output_type": "stream",
     "text": [
      "20\n"
     ]
    }
   ],
   "source": [
    "var = 20\n",
    "print(var)"
   ]
  },
  {
   "cell_type": "code",
   "execution_count": 25,
   "id": "5d51cba4-4e21-4f43-9001-c4f0d0abef2a",
   "metadata": {},
   "outputs": [
    {
     "name": "stdout",
     "output_type": "stream",
     "text": [
      "-10\n"
     ]
    }
   ],
   "source": [
    "_var = -10\n",
    "print(_var)"
   ]
  },
  {
   "cell_type": "code",
   "execution_count": 27,
   "id": "8803f52b-3063-457a-ac8c-ae6dc5785fe2",
   "metadata": {},
   "outputs": [
    {
     "name": "stdout",
     "output_type": "stream",
     "text": [
      "30\n"
     ]
    }
   ],
   "source": [
    "nut = 30\n",
    "print(nut)"
   ]
  },
  {
   "cell_type": "code",
   "execution_count": 29,
   "id": "19966c15-e2aa-408d-a01a-eabd23c9b85e",
   "metadata": {},
   "outputs": [
    {
     "name": "stdout",
     "output_type": "stream",
     "text": [
      "45\n"
     ]
    }
   ],
   "source": [
    "look = 45\n",
    "print(look)"
   ]
  },
  {
   "cell_type": "code",
   "execution_count": 31,
   "id": "a827289e-115e-4698-b919-aa74c26bf496",
   "metadata": {},
   "outputs": [
    {
     "name": "stdout",
     "output_type": "stream",
     "text": [
      "50\n"
     ]
    }
   ],
   "source": [
    "y_shan = 50\n",
    "print(y_shan)"
   ]
  },
  {
   "cell_type": "code",
   "execution_count": 39,
   "id": "5123005b-16bb-4f42-8bd2-bbfa2c098799",
   "metadata": {},
   "outputs": [
    {
     "name": "stdout",
     "output_type": "stream",
     "text": [
      "python\n"
     ]
    }
   ],
   "source": [
    "Zero40 = \"python\"\n",
    "print(Zero40)"
   ]
  },
  {
   "cell_type": "code",
   "execution_count": 41,
   "id": "6d99b7e2-35db-4e0b-8ad0-838509874fd6",
   "metadata": {},
   "outputs": [
    {
     "name": "stdout",
     "output_type": "stream",
     "text": [
      "hot\n"
     ]
    }
   ],
   "source": [
    "_sun = \"hot\"\n",
    "print(_sun)"
   ]
  },
  {
   "cell_type": "code",
   "execution_count": 43,
   "id": "aabdc18d-ee5f-42e6-87b6-0f183d142565",
   "metadata": {},
   "outputs": [
    {
     "name": "stdout",
     "output_type": "stream",
     "text": [
      "cool\n"
     ]
    }
   ],
   "source": [
    "Moon = \"cool\"\n",
    "print(Moon)"
   ]
  },
  {
   "cell_type": "code",
   "execution_count": 1,
   "id": "a68a4d97-87e8-4461-a2c8-5a748a605081",
   "metadata": {},
   "outputs": [
    {
     "name": "stdout",
     "output_type": "stream",
     "text": [
      "100\n",
      "100\n",
      "100\n"
     ]
    }
   ],
   "source": [
    "a = b = c = 100\n",
    "print(a)\n",
    "print(b)\n",
    "print(c)"
   ]
  },
  {
   "cell_type": "code",
   "execution_count": 3,
   "id": "71421c48-d069-489c-a284-3db61341fc85",
   "metadata": {},
   "outputs": [
    {
     "name": "stdout",
     "output_type": "stream",
     "text": [
      "50\n",
      "50\n",
      "50\n"
     ]
    }
   ],
   "source": [
    "apple = banana = cherry = 50\n",
    "print(apple)\n",
    "print(banana)\n",
    "print(cherry)"
   ]
  },
  {
   "cell_type": "code",
   "execution_count": 5,
   "id": "40c19903-55f6-4b9d-b196-07cf574ae7b2",
   "metadata": {},
   "outputs": [
    {
     "name": "stdout",
     "output_type": "stream",
     "text": [
      "200\n"
     ]
    }
   ],
   "source": [
    "pool_30 = 200\n",
    "print(pool_30)"
   ]
  },
  {
   "cell_type": "code",
   "execution_count": 17,
   "id": "c84f316e-4ed5-441b-94d7-9dee39b62a18",
   "metadata": {},
   "outputs": [
    {
     "name": "stdout",
     "output_type": "stream",
     "text": [
      "60\n"
     ]
    }
   ],
   "source": [
    "sunny = \"60\"\n",
    "print(sunny)"
   ]
  },
  {
   "cell_type": "code",
   "execution_count": 23,
   "id": "4b31004d-2386-4fd9-b809-928f311f3ddb",
   "metadata": {},
   "outputs": [
    {
     "name": "stdout",
     "output_type": "stream",
     "text": [
      "400\n"
     ]
    }
   ],
   "source": [
    "_gun_50 = 400\n",
    "print(_gun_50)"
   ]
  },
  {
   "cell_type": "code",
   "execution_count": 27,
   "id": "e5b4a617-7aa7-4c9b-95ad-0eb07ba35e3b",
   "metadata": {},
   "outputs": [
    {
     "name": "stdout",
     "output_type": "stream",
     "text": [
      "500\n"
     ]
    }
   ],
   "source": [
    "__honey = 500\n",
    "print(__honey)"
   ]
  },
  {
   "cell_type": "markdown",
   "id": "72196a42-40c9-4240-9cd7-c588afecbf82",
   "metadata": {},
   "source": [
    "### Examples of invalid variables"
   ]
  },
  {
   "cell_type": "code",
   "execution_count": 30,
   "id": "a560825b-1939-4f44-a1ea-ea670b5dabe7",
   "metadata": {},
   "outputs": [
    {
     "ename": "SyntaxError",
     "evalue": "invalid syntax (3229170416.py, line 1)",
     "output_type": "error",
     "traceback": [
      "\u001b[1;36m  Cell \u001b[1;32mIn[30], line 1\u001b[1;36m\u001b[0m\n\u001b[1;33m    $var = 10\u001b[0m\n\u001b[1;37m    ^\u001b[0m\n\u001b[1;31mSyntaxError\u001b[0m\u001b[1;31m:\u001b[0m invalid syntax\n"
     ]
    }
   ],
   "source": [
    "$var = 10\n",
    "print($var)"
   ]
  },
  {
   "cell_type": "code",
   "execution_count": 32,
   "id": "c52ddb52-febd-4abc-8401-7f2142de8915",
   "metadata": {},
   "outputs": [
    {
     "ename": "SyntaxError",
     "evalue": "invalid syntax (3133018761.py, line 1)",
     "output_type": "error",
     "traceback": [
      "\u001b[1;36m  Cell \u001b[1;32mIn[32], line 1\u001b[1;36m\u001b[0m\n\u001b[1;33m    var& = 30\u001b[0m\n\u001b[1;37m         ^\u001b[0m\n\u001b[1;31mSyntaxError\u001b[0m\u001b[1;31m:\u001b[0m invalid syntax\n"
     ]
    }
   ],
   "source": [
    "var& = 30\n",
    "print(var&)"
   ]
  },
  {
   "cell_type": "code",
   "execution_count": 34,
   "id": "96ac5a9e-4115-454e-b4e9-6e53ecb75243",
   "metadata": {},
   "outputs": [
    {
     "ename": "SyntaxError",
     "evalue": "invalid syntax (14545286.py, line 1)",
     "output_type": "error",
     "traceback": [
      "\u001b[1;36m  Cell \u001b[1;32mIn[34], line 1\u001b[1;36m\u001b[0m\n\u001b[1;33m    if = 50\u001b[0m\n\u001b[1;37m       ^\u001b[0m\n\u001b[1;31mSyntaxError\u001b[0m\u001b[1;31m:\u001b[0m invalid syntax\n"
     ]
    }
   ],
   "source": [
    "if = 50\n",
    "print(if)"
   ]
  },
  {
   "cell_type": "code",
   "execution_count": 36,
   "id": "771294f6-1e1f-4bfa-af0b-1417fc173ecc",
   "metadata": {},
   "outputs": [
    {
     "ename": "SyntaxError",
     "evalue": "cannot assign to True (639564904.py, line 1)",
     "output_type": "error",
     "traceback": [
      "\u001b[1;36m  Cell \u001b[1;32mIn[36], line 1\u001b[1;36m\u001b[0m\n\u001b[1;33m    True = 100\u001b[0m\n\u001b[1;37m    ^\u001b[0m\n\u001b[1;31mSyntaxError\u001b[0m\u001b[1;31m:\u001b[0m cannot assign to True\n"
     ]
    }
   ],
   "source": [
    "True = 100\n",
    "print(True)"
   ]
  },
  {
   "cell_type": "code",
   "execution_count": 38,
   "id": "4cdf6850-78d1-47de-8270-4ccdd9a5b7b4",
   "metadata": {},
   "outputs": [
    {
     "ename": "SyntaxError",
     "evalue": "invalid decimal literal (2737684746.py, line 1)",
     "output_type": "error",
     "traceback": [
      "\u001b[1;36m  Cell \u001b[1;32mIn[38], line 1\u001b[1;36m\u001b[0m\n\u001b[1;33m    40zero = 200\u001b[0m\n\u001b[1;37m     ^\u001b[0m\n\u001b[1;31mSyntaxError\u001b[0m\u001b[1;31m:\u001b[0m invalid decimal literal\n"
     ]
    }
   ],
   "source": [
    "40zero = 200\n",
    "print(40zero)"
   ]
  },
  {
   "cell_type": "code",
   "execution_count": 40,
   "id": "caf9bcf1-8348-41ca-96b2-ab4119b67345",
   "metadata": {},
   "outputs": [
    {
     "ename": "SyntaxError",
     "evalue": "starred assignment target must be in a list or tuple (2262219937.py, line 1)",
     "output_type": "error",
     "traceback": [
      "\u001b[1;36m  Cell \u001b[1;32mIn[40], line 1\u001b[1;36m\u001b[0m\n\u001b[1;33m    *kutty_ = 300\u001b[0m\n\u001b[1;37m    ^\u001b[0m\n\u001b[1;31mSyntaxError\u001b[0m\u001b[1;31m:\u001b[0m starred assignment target must be in a list or tuple\n"
     ]
    }
   ],
   "source": [
    "*kutty_ = 300\n",
    "print(*kutty_)"
   ]
  },
  {
   "cell_type": "code",
   "execution_count": 48,
   "id": "63655bf1-e530-4078-9d4f-cdd65f15f53c",
   "metadata": {},
   "outputs": [
    {
     "ename": "SyntaxError",
     "evalue": "invalid decimal literal (4195633171.py, line 1)",
     "output_type": "error",
     "traceback": [
      "\u001b[1;36m  Cell \u001b[1;32mIn[48], line 1\u001b[1;36m\u001b[0m\n\u001b[1;33m    20_you = 400\u001b[0m\n\u001b[1;37m      ^\u001b[0m\n\u001b[1;31mSyntaxError\u001b[0m\u001b[1;31m:\u001b[0m invalid decimal literal\n"
     ]
    }
   ],
   "source": [
    "20_you = 400\n",
    "print(20_you)"
   ]
  },
  {
   "cell_type": "code",
   "execution_count": 50,
   "id": "9fe6010e-24b3-4be1-90a4-b83052b8086b",
   "metadata": {},
   "outputs": [
    {
     "ename": "SyntaxError",
     "evalue": "unterminated string literal (detected at line 2) (3188609282.py, line 2)",
     "output_type": "error",
     "traceback": [
      "\u001b[1;36m  Cell \u001b[1;32mIn[50], line 2\u001b[1;36m\u001b[0m\n\u001b[1;33m    print('hp)\u001b[0m\n\u001b[1;37m          ^\u001b[0m\n\u001b[1;31mSyntaxError\u001b[0m\u001b[1;31m:\u001b[0m unterminated string literal (detected at line 2)\n"
     ]
    }
   ],
   "source": [
    "'hp' = 600\n",
    "print('hp)"
   ]
  },
  {
   "cell_type": "code",
   "execution_count": 52,
   "id": "018a1793-6a21-4ca7-89cf-f51f5dcc415b",
   "metadata": {},
   "outputs": [
    {
     "ename": "SyntaxError",
     "evalue": "invalid decimal literal (1644033633.py, line 1)",
     "output_type": "error",
     "traceback": [
      "\u001b[1;36m  Cell \u001b[1;32mIn[52], line 1\u001b[1;36m\u001b[0m\n\u001b[1;33m    9fog = 75\u001b[0m\n\u001b[1;37m    ^\u001b[0m\n\u001b[1;31mSyntaxError\u001b[0m\u001b[1;31m:\u001b[0m invalid decimal literal\n"
     ]
    }
   ],
   "source": [
    "9fog = 75\n",
    "print(9fog)"
   ]
  },
  {
   "cell_type": "code",
   "execution_count": 54,
   "id": "a237a448-a93e-4491-a3b4-70548c9c7984",
   "metadata": {},
   "outputs": [
    {
     "ename": "SyntaxError",
     "evalue": "incomplete input (3893568602.py, line 2)",
     "output_type": "error",
     "traceback": [
      "\u001b[1;36m  Cell \u001b[1;32mIn[54], line 2\u001b[1;36m\u001b[0m\n\u001b[1;33m    print(urself#)\u001b[0m\n\u001b[1;37m                  ^\u001b[0m\n\u001b[1;31mSyntaxError\u001b[0m\u001b[1;31m:\u001b[0m incomplete input\n"
     ]
    }
   ],
   "source": [
    "urself# = 70\n",
    "print(urself#)"
   ]
  },
  {
   "cell_type": "code",
   "execution_count": 56,
   "id": "884f577b-b8b2-40ec-b20a-63fac7214e8e",
   "metadata": {},
   "outputs": [
    {
     "ename": "SyntaxError",
     "evalue": "invalid decimal literal (790887114.py, line 1)",
     "output_type": "error",
     "traceback": [
      "\u001b[1;36m  Cell \u001b[1;32mIn[56], line 1\u001b[1;36m\u001b[0m\n\u001b[1;33m    0pool = 20\u001b[0m\n\u001b[1;37m    ^\u001b[0m\n\u001b[1;31mSyntaxError\u001b[0m\u001b[1;31m:\u001b[0m invalid decimal literal\n"
     ]
    }
   ],
   "source": [
    "0pool = 20\n",
    "print(0pool)"
   ]
  },
  {
   "cell_type": "code",
   "execution_count": 58,
   "id": "5b40c843-38fb-4eb6-8c28-c1b603e3d510",
   "metadata": {},
   "outputs": [
    {
     "ename": "SyntaxError",
     "evalue": "invalid syntax. Maybe you meant '==' or ':=' instead of '='? (813371360.py, line 1)",
     "output_type": "error",
     "traceback": [
      "\u001b[1;36m  Cell \u001b[1;32mIn[58], line 1\u001b[1;36m\u001b[0m\n\u001b[1;33m    @goat = 50\u001b[0m\n\u001b[1;37m     ^\u001b[0m\n\u001b[1;31mSyntaxError\u001b[0m\u001b[1;31m:\u001b[0m invalid syntax. Maybe you meant '==' or ':=' instead of '='?\n"
     ]
    }
   ],
   "source": [
    "@goat = 50\n",
    "print(@goat)"
   ]
  },
  {
   "cell_type": "code",
   "execution_count": 62,
   "id": "e823ea55-3a42-49f4-95ea-f247465e37f0",
   "metadata": {},
   "outputs": [
    {
     "ename": "SyntaxError",
     "evalue": "invalid syntax (2804812426.py, line 1)",
     "output_type": "error",
     "traceback": [
      "\u001b[1;36m  Cell \u001b[1;32mIn[62], line 1\u001b[1;36m\u001b[0m\n\u001b[1;33m    _False^ = 40\u001b[0m\n\u001b[1;37m            ^\u001b[0m\n\u001b[1;31mSyntaxError\u001b[0m\u001b[1;31m:\u001b[0m invalid syntax\n"
     ]
    }
   ],
   "source": [
    "_False^ = 40\n",
    "print(_False^)"
   ]
  },
  {
   "cell_type": "code",
   "execution_count": 64,
   "id": "4cb3d258-ce7d-45ff-bc7e-59b2ae5cc971",
   "metadata": {},
   "outputs": [
    {
     "ename": "SyntaxError",
     "evalue": "incomplete input (2306056623.py, line 2)",
     "output_type": "error",
     "traceback": [
      "\u001b[1;36m  Cell \u001b[1;32mIn[64], line 2\u001b[1;36m\u001b[0m\n\u001b[1;33m    print(#_if)\u001b[0m\n\u001b[1;37m               ^\u001b[0m\n\u001b[1;31mSyntaxError\u001b[0m\u001b[1;31m:\u001b[0m incomplete input\n"
     ]
    }
   ],
   "source": [
    "#_if = 70\n",
    "print(#_if)"
   ]
  },
  {
   "cell_type": "code",
   "execution_count": 66,
   "id": "02c62fb9-918d-4a39-bafb-5bf3f61fc80f",
   "metadata": {},
   "outputs": [
    {
     "ename": "SyntaxError",
     "evalue": "cannot assign to expression here. Maybe you meant '==' instead of '='? (1975164008.py, line 1)",
     "output_type": "error",
     "traceback": [
      "\u001b[1;36m  Cell \u001b[1;32mIn[66], line 1\u001b[1;36m\u001b[0m\n\u001b[1;33m    +plus = 90\u001b[0m\n\u001b[1;37m    ^\u001b[0m\n\u001b[1;31mSyntaxError\u001b[0m\u001b[1;31m:\u001b[0m cannot assign to expression here. Maybe you meant '==' instead of '='?\n"
     ]
    }
   ],
   "source": [
    "+plus = 90\n",
    "print(+plus)"
   ]
  },
  {
   "cell_type": "code",
   "execution_count": null,
   "id": "58acef8e-8cb8-490a-87d5-8bbfd1e69cd0",
   "metadata": {},
   "outputs": [],
   "source": []
  }
 ],
 "metadata": {
  "kernelspec": {
   "display_name": "Python 3 (ipykernel)",
   "language": "python",
   "name": "python3"
  },
  "language_info": {
   "codemirror_mode": {
    "name": "ipython",
    "version": 3
   },
   "file_extension": ".py",
   "mimetype": "text/x-python",
   "name": "python",
   "nbconvert_exporter": "python",
   "pygments_lexer": "ipython3",
   "version": "3.12.4"
  }
 },
 "nbformat": 4,
 "nbformat_minor": 5
}
